{
 "cells": [
  {
   "cell_type": "code",
   "execution_count": 4,
   "metadata": {},
   "outputs": [],
   "source": [
    "from tqdm import tqdm\n",
    "import re\n",
    "import os\n",
    "from selenium import webdriver\n",
    "from selenium.webdriver.common.by import By\n",
    "from selenium.webdriver.common.desired_capabilities import DesiredCapabilities\n",
    "from selenium.webdriver.chrome.options import Options\n",
    "import warnings\n",
    "warnings.filterwarnings(\"ignore\")\n",
    "PATH = 'C:/Program Files/chromedriver.exe'"
   ]
  },
  {
   "cell_type": "markdown",
   "metadata": {},
   "source": [
    "## Some functions"
   ]
  },
  {
   "cell_type": "code",
   "execution_count": 5,
   "metadata": {},
   "outputs": [],
   "source": [
    "def open_url(url, pageLoadStrategy='eager'):\n",
    "    caps = DesiredCapabilities().CHROME ; caps[\"pageLoadStrategy\"] = pageLoadStrategy # \"eager\", \"normal\", \"none\"\n",
    "    chrome_options = Options()  ; chrome_options.add_argument(\"window-size=700,800\")\n",
    "\n",
    "    driver = webdriver.Chrome(executable_path=PATH, desired_capabilities=caps, chrome_options=chrome_options)\n",
    "    driver.minimize_window()\n",
    "    driver.get(url)\n",
    "    try:\n",
    "        expand = driver.find_element(by=By.CLASS_NAME, value='toggle_expand')\n",
    "        expand.click()\n",
    "    except: pass\n",
    "    return driver\n",
    "\n",
    "def get_element_by_xpath(driver, xpath):\n",
    "    return driver.find_element(by=By.XPATH, value=xpath)\n",
    "\n",
    "def all_info(driver):\n",
    "    \"\"\"Summary (info)\"\"\"\n",
    "    info = get_element_by_xpath(driver, '//*[@id=\"main\"]/div/div[1]/div[1]').text.lower().split('\\n')\n",
    "                                        \n",
    "    \"\"\"Metascore\"\"\"\n",
    "    try:\n",
    "        meta_positive = get_element_by_xpath(driver, '//*[@id=\"main\"]/div/div[3]/div[1]/div[1]/div/div[1]/div[2]/div/div/ol/li[1]').text.text.split('\\n')[1]\n",
    "        meta_mixed = get_element_by_xpath(driver, '//*[@id=\"main\"]/div/div[3]/div[1]/div[1]/div/div[1]/div[2]/div/div/ol/li[2]').text.text.split('\\n')[1]\n",
    "        meta_negative = get_element_by_xpath(driver, '//*[@id=\"main\"]/div/div[3]/div[1]/div[1]/div/div[1]/div[2]/div/div/ol/li[3]').text.text.split('\\n')[1]\n",
    "    except:\n",
    "        meta_positive = '0'\n",
    "        meta_mixed = '0'\n",
    "        meta_negative = '0'\n",
    "    \n",
    "    \"\"\"Userscore\"\"\"\n",
    "    try:\n",
    "        user_positive = get_element_by_xpath(driver, '//*[@id=\"main\"]/div/div[3]/div[1]/div[1]/div/div[2]/div[3]/div/div/ol/li[1]/div/span[2]/a/span/span[1]').text\n",
    "        user_mixed = get_element_by_xpath(driver, '//*[@id=\"main\"]/div/div[3]/div[1]/div[1]/div/div[2]/div[3]/div/div/ol/li[2]/div/span[2]/a/span/span[1]').text\n",
    "        user_negative = get_element_by_xpath(driver, '//*[@id=\"main\"]/div/div[3]/div[1]/div[1]/div/div[2]/div[3]/div/div/ol/li[3]/div/span[2]/a/span/span[1]').text\n",
    "    except:\n",
    "        user_positive = '0'\n",
    "        user_mixed = '0'\n",
    "        user_negative = '0'\n",
    "    \"\"\"Awards\"\"\"\n",
    "    awards = get_element_by_xpath(driver, '//*[@id=\"main\"]/div/div[3]/div[2]/div[1]/div[2]').text\n",
    "\n",
    "    return info, meta_positive, meta_mixed, meta_negative, user_positive, user_mixed, user_negative, awards\n",
    "\n",
    "def del_item(arr, items):\n",
    "    for item in items:\n",
    "        try: arr.remove(item.lower())\n",
    "        except: pass\n",
    "    return arr"
   ]
  },
  {
   "cell_type": "code",
   "execution_count": 6,
   "metadata": {},
   "outputs": [],
   "source": [
    "url1 = 'https://www.metacritic.com/game/xbox-series-x/f1-2021'\n",
    "url2 = 'https://www.metacritic.com/game/xbox-series-x/immortality'\n",
    "url3 = 'https://www.metacritic.com/game/xbox-series-x/elden-ring'\n",
    "url4 = 'https://www.metacritic.com/game/xbox-series-x/martha-is-dead'\n",
    "url5 = 'https://www.metacritic.com/game/xbox-series-x/halo-infinite'\n",
    "url6 = 'https://www.metacritic.com/game/xbox-series-x/hades'\n",
    "url7 = 'https://www.metacritic.com/game/xbox-series-x/forza-horizon-5'\n",
    "\n",
    "urls = [url1, url2, url3, url4, url5, url6, url7,\n",
    "        'https://www.metacritic.com/game/xbox-series-x/rogue-legacy-2',\n",
    "        'https://www.metacritic.com/game/xbox-series-x/atari-50-the-anniversary-celebration',\n",
    "        'https://www.metacritic.com/game/xbox-series-x/life-is-strange-true-colors',\n",
    "        'https://www.metacritic.com/game/xbox-series-x/far-cry-6',\n",
    "        'https://www.metacritic.com/game/xbox-series-x/spellforce-iii-reforced',\n",
    "        'https://www.metacritic.com/game/xbox-series-x/dying-light-2-stay-human',\n",
    "        'https://www.metacritic.com/game/xbox-series-x/monster-energy-supercross---the-official-videogame-5',\n",
    "        'https://www.metacritic.com/game/xbox-series-x/the-dark-pictures-anthology-house-of-ashes',\n",
    "        'https://www.metacritic.com/game/xbox-series-x/vampire-the-masquerade---swansong',\n",
    "        'https://www.metacritic.com/game/xbox-series-x/werewolf-the-apocalypse---earthblood',\n",
    "        'https://www.metacritic.com/game/xbox-series-x/crossfirex']\n",
    "\n",
    "items_to_remove = ['summary','critic reviews','user reviews','details & credits',\n",
    "                   \"what's this?\", 'trailers & videos', '… expand', 'buy now', 'buy on', 'your score', '0', \n",
    "                   'cheats: on gamefaqs', 'more details and credits »', 'trailer', ]"
   ]
  },
  {
   "cell_type": "code",
   "execution_count": 7,
   "metadata": {},
   "outputs": [
    {
     "name": "stderr",
     "output_type": "stream",
     "text": [
      "100%|██████████| 18/18 [03:00<00:00, 10.01s/it]\n"
     ]
    }
   ],
   "source": [
    "os.makedirs('InfoText', exist_ok=True)\n",
    "\n",
    "for url in tqdm(urls[:]):\n",
    "    driver = open_url(url, pageLoadStrategy='eager')\n",
    "    info, meta_positive, meta_mixed, meta_negative, user_positive, user_mixed, user_negative, awards = all_info(driver)\n",
    "    info = list(filter(('').__ne__, info))\n",
    "    info = del_item(info, items_to_remove)\n",
    "    info = [item for item in info if ('also on' not in item and 'available on:' not in item)] # delete items including \"also on\"\n",
    "    driver.close()\n",
    "    f = open(f\"InfoText/{url.split('/')[-1]}.txt\", 'w')\n",
    "    f.write('\\n'.join(info))\n",
    "    f.close()"
   ]
  },
  {
   "attachments": {},
   "cell_type": "markdown",
   "metadata": {},
   "source": [
    "## Test one by one"
   ]
  },
  {
   "cell_type": "code",
   "execution_count": 83,
   "metadata": {},
   "outputs": [],
   "source": [
    "driver = open_url('https://www.metacritic.com/game/xbox-series-x/life-is-strange-true-colors')\n",
    "el = get_element_by_xpath(driver, '//*[@id=\"main\"]/div/div[1]/div[1]').text.lower().split('\\n')"
   ]
  },
  {
   "cell_type": "code",
   "execution_count": 89,
   "metadata": {},
   "outputs": [
    {
     "data": {
      "text/plain": [
       "['life is strange: true colors xbox series x',\n",
       " 'square enix',\n",
       " 'release date: sep 10, 2021',\n",
       " 'metascore',\n",
       " '84',\n",
       " 'generally favorable reviews',\n",
       " 'based on 17 critic reviews',\n",
       " 'user score',\n",
       " '6.3',\n",
       " 'mixed or average reviews',\n",
       " 'based on 120 ratings',\n",
       " 'summary: a bold new era of the award-winning life is strange begins, with an all-new playable lead character and a thrilling mystery to solve!',\n",
       " \"alex chen has long suppressed her 'curse': the supernatural ability to experience, absorb and manipulate the strong emotions of others, which she sees as\",\n",
       " 'developer: deck nine games',\n",
       " 'genre(s): action adventure, general',\n",
       " '# of players: no online multiplayer',\n",
       " 'rating: m']"
      ]
     },
     "execution_count": 89,
     "metadata": {},
     "output_type": "execute_result"
    }
   ],
   "source": [
    "info = el\n",
    "info = list(filter(('').__ne__, info))\n",
    "info = del_item(info, items_to_remove)\n",
    "info = [item for item in info if ('also on' not in item and 'available on:' not in item)]\n",
    "info"
   ]
  },
  {
   "cell_type": "code",
   "execution_count": 77,
   "metadata": {},
   "outputs": [
    {
     "data": {
      "text/plain": [
       "['life is strange: true colors xbox series x',\n",
       " 'square enix',\n",
       " 'release date: sep 10, 2021',\n",
       " 'also on: pc, playstation 4, playstation 5, stadia, switch, xbox one',\n",
       " 'summary',\n",
       " 'critic reviews',\n",
       " 'user reviews',\n",
       " 'details & credits',\n",
       " 'trailers & videos',\n",
       " 'metascore',\n",
       " '84',\n",
       " 'generally favorable reviews',\n",
       " 'based on 17 critic reviews',\n",
       " \"what's this?\",\n",
       " 'user score',\n",
       " '6.3',\n",
       " 'mixed or average reviews',\n",
       " 'based on 120 ratings',\n",
       " 'your score',\n",
       " '0',\n",
       " 'summary: a bold new era of the award-winning life is strange begins, with an all-new playable lead character and a thrilling mystery to solve!',\n",
       " '',\n",
       " \"alex chen has long suppressed her 'curse': the supernatural ability to experience, absorb and manipulate the strong emotions of others, which she sees as\",\n",
       " '',\n",
       " '',\n",
       " '',\n",
       " '… expand',\n",
       " 'buy now',\n",
       " 'buy on',\n",
       " 'developer: deck nine games',\n",
       " 'genre(s): action adventure, general',\n",
       " '# of players: no online multiplayer',\n",
       " 'cheats: on gamefaqs',\n",
       " 'available on: stadia',\n",
       " 'rating: m',\n",
       " 'more details and credits »',\n",
       " 'trailer']"
      ]
     },
     "execution_count": 77,
     "metadata": {},
     "output_type": "execute_result"
    }
   ],
   "source": [
    "el.text.lower().split('\\n')"
   ]
  }
 ],
 "metadata": {
  "kernelspec": {
   "display_name": "Python 3",
   "language": "python",
   "name": "python3"
  },
  "language_info": {
   "codemirror_mode": {
    "name": "ipython",
    "version": 3
   },
   "file_extension": ".py",
   "mimetype": "text/x-python",
   "name": "python",
   "nbconvert_exporter": "python",
   "pygments_lexer": "ipython3",
   "version": "3.10.10"
  },
  "orig_nbformat": 4,
  "vscode": {
   "interpreter": {
    "hash": "c8cd7ea2ef3b5a2b019787689d3a11867f27cd6c1a09ce5480ea7745ca6dd520"
   }
  }
 },
 "nbformat": 4,
 "nbformat_minor": 2
}
