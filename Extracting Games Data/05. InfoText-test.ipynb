{
 "cells": [
  {
   "cell_type": "code",
   "execution_count": 30,
   "metadata": {},
   "outputs": [],
   "source": [
    "from glob import glob\n",
    "import re"
   ]
  },
  {
   "cell_type": "code",
   "execution_count": 31,
   "metadata": {},
   "outputs": [
    {
     "name": "stdout",
     "output_type": "stream",
     "text": [
      "atari 50: the anniversary celebration xbox series x\n",
      "atari , atari sa\n",
      "release date: nov 11, 2022\n",
      "metascore\n",
      "87\n",
      "generally favorable reviews\n",
      "based on 9 critic reviews\n",
      "user score\n",
      "tbd\n",
      "no user score yet\n",
      "awaiting 3 more ratings\n",
      "summary: it has been five decades since a small team in silicon valley first combined their creativity, curiosity and passion into making video games and hardware. the result of their efforts was atari, one of the most recognizable and enduring entertainment and pop culture brands in the world.\n",
      "atari 50: the anniversary celebration takes players on an interactive journey through 50 years of video games via interviews with designers, developers and industry leaders, documentary footage, product design documents, high-resolution original artwork, and a specially-curated list of more than 90 playable games. collapse\n",
      "developer: digital eclipse\n",
      "genre(s): miscellaneous, compilation\n",
      "# of players: no online multiplayer\n",
      "rating: t\n",
      "=======================/\\___/\\========================\n",
      "======================( =^.^= )=======================\n",
      "=======================(\")_(\")_/======================\n",
      "crossfirex xbox series x\n",
      "smilegate\n",
      "release date: feb 10, 2022\n",
      "metascore\n",
      "38\n",
      "generally unfavorable reviews\n",
      "based on 22 critic reviews\n",
      "user score\n",
      "3.3\n",
      "generally unfavorable reviews\n",
      "based on 288 ratings\n",
      "summary: crossfirex delivers an intense first-person shooter experience where players are immersed in a sprawling global conflict between the world's two most formidable private military factions: global risk employs veterans of powerful armed forces who use advanced technologies to fight for order and security; black list employs hardened mercenaries trained in guerilla tactics who fight to destabilize oppressive regimes in the name of freedom. choose your side and complete objective-based missions across a variety of classic and innovative modes featuring tightly crafted gameplay and cinematic visuals. collapse\n",
      "developer: smilegate\n",
      "genre(s): action, shooter, first-person, tactical\n",
      "rating: m\n",
      "=======================/\\___/\\========================\n",
      "======================( =^.^= )=======================\n",
      "=======================(\")_(\")_/======================\n"
     ]
    }
   ],
   "source": [
    "files = glob('InfoText/*.txt')\n",
    "for file in files[:2]:\n",
    "    f = open(file, 'r')\n",
    "    info = f.read().split('\\n')\n",
    "    f.close()\n",
    "    for t in info:\n",
    "        print(t)\n",
    "    print('=======================/\\___/\\========================\\n======================( =^.^= )=======================\\n=======================(\")_(\")_/======================')"
   ]
  },
  {
   "cell_type": "code",
   "execution_count": 28,
   "metadata": {},
   "outputs": [],
   "source": [
    "def info_extractor(info):\n",
    "    name = info[0].replace(' xbox series x','')\n",
    "    distributer = info[1]\n",
    "    date = info[2].replace('release date: ', '')\n",
    "    metascore = info[4]\n",
    "    meta_status = info[5]\n",
    "    critic_reviews_num = re.sub(\"[^0-9]\",\"\",info[6].lower())\n",
    "    userscore = info[8]\n",
    "    userscore_status = info[9]\n",
    "    user_reviews_num = info[10]\n",
    "    summary = info[11][9:]\n",
    "    dev = info[12][11:]\n",
    "    genre = info[13][10:]\n",
    "    # player_num = re.sub(\"[^0-9]\",\"\",info[15]) if 'no online' not in info[15] else 'no online multiplayer'\n",
    "    # rating = info[16][8:].upper()\n",
    "    return name, distributer, date, metascore, meta_status, critic_reviews_num,\\\n",
    "          userscore, userscore_status, user_reviews_num, summary, dev, genre"
   ]
  },
  {
   "cell_type": "code",
   "execution_count": 29,
   "metadata": {},
   "outputs": [
    {
     "name": "stdout",
     "output_type": "stream",
     "text": [
      "name: crossfirex\n",
      "distributer: smilegate\n",
      "date: feb 10, 2022\n",
      "metascore: 38\n",
      "meta_status: generally unfavorable reviews\n",
      "critic_reviews_num: 22\n",
      "user_score: 3.3\n",
      "user_reviews_num: based on 288 ratings\n",
      "summary: crossfirex delivers an intense first-person shooter experience where players are immersed in a sprawling global conflict between the world's two most formidable private military factions: global risk employs veterans of powerful armed forces who use advanced technologies to fight for order… expand\n",
      "dev: smilegate\n",
      "genre: action, shooter, first-person, tactical\n"
     ]
    }
   ],
   "source": [
    "name, distributer, date, metascore, meta_status, critic_reviews_num,\\\n",
    "userscore, userscore_status, user_reviews_num, summary, dev, genre = info_extractor(info)\n",
    "print(f'name: {name}')\n",
    "print(f'distributer: {distributer}')\n",
    "print(f'date: {date}')\n",
    "print(f'metascore: {metascore}')\n",
    "print(f'meta_status: {meta_status}')\n",
    "print(f'critic_reviews_num: {critic_reviews_num}')\n",
    "print(f'user_score: {userscore}')\n",
    "print(f'user_reviews_num: {user_reviews_num}')\n",
    "print(f'summary: {summary}')\n",
    "print(f'dev: {dev}')\n",
    "print(f'genre: {genre}')\n",
    "# print(f'player_num: {player_num}')\n",
    "# print(f'rating: {rating}')"
   ]
  }
 ],
 "metadata": {
  "kernelspec": {
   "display_name": "Python 3",
   "language": "python",
   "name": "python3"
  },
  "language_info": {
   "codemirror_mode": {
    "name": "ipython",
    "version": 3
   },
   "file_extension": ".py",
   "mimetype": "text/x-python",
   "name": "python",
   "nbconvert_exporter": "python",
   "pygments_lexer": "ipython3",
   "version": "3.10.10"
  },
  "orig_nbformat": 4,
  "vscode": {
   "interpreter": {
    "hash": "c8cd7ea2ef3b5a2b019787689d3a11867f27cd6c1a09ce5480ea7745ca6dd520"
   }
  }
 },
 "nbformat": 4,
 "nbformat_minor": 2
}
