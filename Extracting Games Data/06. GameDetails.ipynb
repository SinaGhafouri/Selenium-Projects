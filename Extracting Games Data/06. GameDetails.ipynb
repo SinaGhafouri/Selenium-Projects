{
 "cells": [
  {
   "cell_type": "code",
   "execution_count": 1,
   "metadata": {},
   "outputs": [],
   "source": [
    "from tqdm import tqdm\n",
    "import os\n",
    "from glob import glob\n",
    "import re\n",
    "import numpy as np\n",
    "import pandas as pd\n",
    "\n",
    "from my_module import *"
   ]
  },
  {
   "cell_type": "code",
   "execution_count": 2,
   "metadata": {},
   "outputs": [
    {
     "data": {
      "text/plain": [
       "['dataframes\\\\pc_games.csv']"
      ]
     },
     "execution_count": 2,
     "metadata": {},
     "output_type": "execute_result"
    }
   ],
   "source": [
    "CSVs = glob('dataframes/*.csv')\n",
    "CSVs"
   ]
  },
  {
   "cell_type": "code",
   "execution_count": 3,
   "metadata": {},
   "outputs": [
    {
     "data": {
      "text/html": [
       "<div>\n",
       "<style scoped>\n",
       "    .dataframe tbody tr th:only-of-type {\n",
       "        vertical-align: middle;\n",
       "    }\n",
       "\n",
       "    .dataframe tbody tr th {\n",
       "        vertical-align: top;\n",
       "    }\n",
       "\n",
       "    .dataframe thead th {\n",
       "        text-align: right;\n",
       "    }\n",
       "</style>\n",
       "<table border=\"1\" class=\"dataframe\">\n",
       "  <thead>\n",
       "    <tr style=\"text-align: right;\">\n",
       "      <th></th>\n",
       "      <th>Name</th>\n",
       "      <th>Link</th>\n",
       "    </tr>\n",
       "  </thead>\n",
       "  <tbody>\n",
       "    <tr>\n",
       "      <th>0</th>\n",
       "      <td>disco-elysium-the-final-cut</td>\n",
       "      <td>https://www.metacritic.com/game/pc/disco-elysi...</td>\n",
       "    </tr>\n",
       "    <tr>\n",
       "      <th>1</th>\n",
       "      <td>half-life-2</td>\n",
       "      <td>https://www.metacritic.com/game/pc/half-life-2</td>\n",
       "    </tr>\n",
       "    <tr>\n",
       "      <th>2</th>\n",
       "      <td>grand-theft-auto-v</td>\n",
       "      <td>https://www.metacritic.com/game/pc/grand-theft...</td>\n",
       "    </tr>\n",
       "    <tr>\n",
       "      <th>3</th>\n",
       "      <td>the-orange-box</td>\n",
       "      <td>https://www.metacritic.com/game/pc/the-orange-box</td>\n",
       "    </tr>\n",
       "    <tr>\n",
       "      <th>4</th>\n",
       "      <td>half-life</td>\n",
       "      <td>https://www.metacritic.com/game/pc/half-life</td>\n",
       "    </tr>\n",
       "    <tr>\n",
       "      <th>...</th>\n",
       "      <td>...</td>\n",
       "      <td>...</td>\n",
       "    </tr>\n",
       "    <tr>\n",
       "      <th>5286</th>\n",
       "      <td>flatout-3-chaos-destruction</td>\n",
       "      <td>https://www.metacritic.com/game/pc/flatout-3-c...</td>\n",
       "    </tr>\n",
       "    <tr>\n",
       "      <th>5287</th>\n",
       "      <td>infestation-survivor-stories-the-war-z</td>\n",
       "      <td>https://www.metacritic.com/game/pc/infestation...</td>\n",
       "    </tr>\n",
       "    <tr>\n",
       "      <th>5288</th>\n",
       "      <td>leisure-suit-larry-box-office-bust</td>\n",
       "      <td>https://www.metacritic.com/game/pc/leisure-sui...</td>\n",
       "    </tr>\n",
       "    <tr>\n",
       "      <th>5289</th>\n",
       "      <td>alone-in-the-dark-illumination</td>\n",
       "      <td>https://www.metacritic.com/game/pc/alone-in-th...</td>\n",
       "    </tr>\n",
       "    <tr>\n",
       "      <th>5290</th>\n",
       "      <td>ride-to-hell-retribution</td>\n",
       "      <td>https://www.metacritic.com/game/pc/ride-to-hel...</td>\n",
       "    </tr>\n",
       "  </tbody>\n",
       "</table>\n",
       "<p>5291 rows × 2 columns</p>\n",
       "</div>"
      ],
      "text/plain": [
       "                                        Name  \\\n",
       "0                disco-elysium-the-final-cut   \n",
       "1                                half-life-2   \n",
       "2                         grand-theft-auto-v   \n",
       "3                             the-orange-box   \n",
       "4                                  half-life   \n",
       "...                                      ...   \n",
       "5286             flatout-3-chaos-destruction   \n",
       "5287  infestation-survivor-stories-the-war-z   \n",
       "5288      leisure-suit-larry-box-office-bust   \n",
       "5289          alone-in-the-dark-illumination   \n",
       "5290                ride-to-hell-retribution   \n",
       "\n",
       "                                                   Link  \n",
       "0     https://www.metacritic.com/game/pc/disco-elysi...  \n",
       "1        https://www.metacritic.com/game/pc/half-life-2  \n",
       "2     https://www.metacritic.com/game/pc/grand-theft...  \n",
       "3     https://www.metacritic.com/game/pc/the-orange-box  \n",
       "4          https://www.metacritic.com/game/pc/half-life  \n",
       "...                                                 ...  \n",
       "5286  https://www.metacritic.com/game/pc/flatout-3-c...  \n",
       "5287  https://www.metacritic.com/game/pc/infestation...  \n",
       "5288  https://www.metacritic.com/game/pc/leisure-sui...  \n",
       "5289  https://www.metacritic.com/game/pc/alone-in-th...  \n",
       "5290  https://www.metacritic.com/game/pc/ride-to-hel...  \n",
       "\n",
       "[5291 rows x 2 columns]"
      ]
     },
     "execution_count": 3,
     "metadata": {},
     "output_type": "execute_result"
    }
   ],
   "source": [
    "platform_df = pd.read_csv('dataframes\\\\pc_games.csv').drop('Unnamed: 0', axis=1)\n",
    "platform_df"
   ]
  },
  {
   "cell_type": "code",
   "execution_count": 4,
   "metadata": {},
   "outputs": [],
   "source": [
    "def try_except(item): # this function is for number extraction from a list containing str(numbers) and str(mix of letters and numbers).\n",
    "    try:\n",
    "        int(item)\n",
    "        return 1\n",
    "    except: return 0"
   ]
  },
  {
   "cell_type": "code",
   "execution_count": 5,
   "metadata": {},
   "outputs": [],
   "source": [
    "def dataframe_creator(df):\n",
    "    global urls, url\n",
    "    new_cols = ['Distributer', 'Developer', 'Release Date', 'Also On', 'Summary', \n",
    "                'Metascore', 'Meta Status', '# of Critic Reviews', 'Critic Positive', 'Critic Mixed', 'Critic Negative', \n",
    "                'Userscore', 'Userscore Status', '# of User Reviews', 'User Positive', 'User Mixed', 'User Negative', \n",
    "                'Genres', '# Of Players', 'Rating', 'Awards']\n",
    "    for col in new_cols: df[col] = np.nan # creating empty columns\n",
    "\n",
    "    df['Status'] = np.nan\n",
    "    urls = df['Link']\n",
    "    for counter,url in tqdm(list(enumerate(urls))):\n",
    "\n",
    "        try: driver = open_url(url)\n",
    "        except: \n",
    "            df['Status'].iloc[counter] = 'WebDriverException'\n",
    "            continue\n",
    "        \n",
    "\n",
    "        \"\"\"Expand the summary if exist\"\"\"\n",
    "        try: driver.find_element(by=By.CLASS_NAME, value='toggle_expand').click() # click on 'expand' button for 'summary' if exist.\n",
    "        except: pass\n",
    "\n",
    "        \"\"\"Get the scores\"\"\"\n",
    "        try: \n",
    "            scores = driver.find_element(by=By.CLASS_NAME, value='product_scores').text.lower().split('\\n')\n",
    "            metascore = scores[1] ; df['Metascore'].iloc[counter] = metascore\n",
    "            meta_status = scores[2] ; df['Meta Status'].iloc[counter] = meta_status\n",
    "            critic_reviews_num = re.sub(\"[^0-9]\",\"\",scores[3]) ; df['# of Critic Reviews'].iloc[counter] = critic_reviews_num\n",
    "            userscore = scores[6] ; df['Userscore'].iloc[counter] = userscore\n",
    "            userscore_status = scores[7] ; df['Userscore Status'].iloc[counter] = userscore_status\n",
    "            user_reviews_num = re.sub(\"[^0-9]\",\"\",scores[8]) ; df['# of User Reviews'].iloc[counter] = user_reviews_num\n",
    "        except: pass\n",
    "\n",
    "        \"\"\"Score distribution (2 parts: critics, users)\"\"\"\n",
    "        try: \n",
    "            score_dist = driver.find_elements(by=By.CLASS_NAME, value='score_distribution')\n",
    "            crt_pos, crt_mix, crt_neg = [item for item in score_dist[0].text.replace(',','').split('\\n') if try_except(item)==1]\n",
    "            df['Critic Positive'].iloc[counter] = crt_pos\n",
    "            df['Critic Mixed'].iloc[counter] = crt_mix\n",
    "            df['Critic Negative'].iloc[counter] = crt_neg\n",
    "            usr_pos, usr_mix, usr_neg = [item for item in score_dist[1].text.replace(',','').split('\\n') if try_except(item)==1]\n",
    "            df['User Positive'].iloc[counter] = usr_pos\n",
    "            df['User Mixed'].iloc[counter] = usr_mix\n",
    "            df['User Negative'].iloc[counter] = usr_neg\n",
    "        except: pass\n",
    "\n",
    "        \"\"\"Awards\"\"\"\n",
    "        try:\n",
    "            awards = get_element_by_xpath(driver, '//*[@id=\"main\"]/div/div[3]/div[2]/div[1]/div[2]').text\n",
    "            if awards[0]=='#': df['Awards'].iloc[counter] = awards\n",
    "            else: pass\n",
    "        except: pass\n",
    "        \n",
    "        \"\"\"Summary details (2 parts)\"\"\"\n",
    "        try:\n",
    "            sum_det = driver.find_elements(by=By.CLASS_NAME, value='summary_details')\n",
    "            \"\"\"part 1\"\"\"\n",
    "            sum_det_1 = sum_det[0].text.split('\\n')\n",
    "            distributer = sum_det_1[0] ; df['Distributer'].iloc[counter] = distributer\n",
    "            release_date = sum_det_1[1].split(': ')[-1] ; df['Release Date'].iloc[counter] = release_date\n",
    "            try: also_on = sum_det_1[2].split(': ')[-1] ; df['Also On'].iloc[counter] = also_on\n",
    "            except: pass\n",
    "            \"\"\"Part 2\"\"\"\n",
    "            summary = sum_det[1].text[9:] ; df['Summary'].iloc[counter] = summary\n",
    "        except: pass\n",
    "        \"\"\"Other summary details\"\"\"\n",
    "        try: developer = driver.find_element(by=By.CLASS_NAME, value='developer').text[11:] ; df['Developer'].iloc[counter] = developer\n",
    "        except: pass\n",
    "\n",
    "        \"\"\"Genres\"\"\"\n",
    "        try: genres = driver.find_element(by=By.CLASS_NAME, value='product_genre').text[10:] ; df['Genres'].iloc[counter] = genres\n",
    "        except: pass\n",
    "        \n",
    "        \"\"\"# of players\"\"\"\n",
    "        try: \n",
    "            numOfplayers = driver.find_element(by=By.CLASS_NAME, value='product_players').text\n",
    "            if 'no online' in numOfplayers.lower(): numOfplayers = 'No Online Multiplayer'\n",
    "            else: numOfplayers = re.sub(\"[^0-9]\",\"\",numOfplayers)\n",
    "            df['# Of Players'].iloc[counter] = numOfplayers\n",
    "        except: pass\n",
    "        \n",
    "        \"\"\"Rating\"\"\"\n",
    "        try: rating = driver.find_element(by=By.CLASS_NAME, value='product_rating').text[8:] ; df['Rating'].iloc[counter] = rating\n",
    "        except: pass\n",
    "\n",
    "        driver.close()\n",
    "\n",
    "    return df"
   ]
  },
  {
   "cell_type": "code",
   "execution_count": 6,
   "metadata": {},
   "outputs": [
    {
     "name": "stderr",
     "output_type": "stream",
     "text": [
      "100%|██████████| 5291/5291 [10:05:47<00:00,  6.87s/it]   \n"
     ]
    }
   ],
   "source": [
    "df = dataframe_creator(platform_df)\n",
    "df.to_csv('dataframes/pc_details.csv')"
   ]
  }
 ],
 "metadata": {
  "kernelspec": {
   "display_name": "Python 3",
   "language": "python",
   "name": "python3"
  },
  "language_info": {
   "codemirror_mode": {
    "name": "ipython",
    "version": 3
   },
   "file_extension": ".py",
   "mimetype": "text/x-python",
   "name": "python",
   "nbconvert_exporter": "python",
   "pygments_lexer": "ipython3",
   "version": "3.10.10"
  },
  "orig_nbformat": 4,
  "vscode": {
   "interpreter": {
    "hash": "c8cd7ea2ef3b5a2b019787689d3a11867f27cd6c1a09ce5480ea7745ca6dd520"
   }
  }
 },
 "nbformat": 4,
 "nbformat_minor": 2
}
