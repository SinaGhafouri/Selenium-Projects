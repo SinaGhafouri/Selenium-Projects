{
 "cells": [
  {
   "cell_type": "code",
   "execution_count": 29,
   "metadata": {},
   "outputs": [],
   "source": [
    "from tqdm import tqdm\n",
    "from selenium import webdriver\n",
    "from selenium.webdriver.common.by import By\n",
    "from selenium.webdriver.common.desired_capabilities import DesiredCapabilities\n",
    "from selenium.webdriver.chrome.options import Options\n",
    "# PATH = 'C:/Program Files/msedgedriver.exe' # edge does not support DesiredCapabilities\n",
    "PATH = 'C:/Program Files/chromedriver.exe'"
   ]
  },
  {
   "cell_type": "code",
   "execution_count": 24,
   "metadata": {},
   "outputs": [
    {
     "name": "stderr",
     "output_type": "stream",
     "text": [
      "C:\\Users\\Finarfin\\AppData\\Local\\Temp\\ipykernel_10692\\3965620114.py:7: DeprecationWarning: executable_path has been deprecated, please pass in a Service object\n",
      "  driver = webdriver.Chrome(desired_capabilities=caps, executable_path=PATH)\n",
      "100%|██████████| 99/99 [00:02<00:00, 36.12it/s]\n"
     ]
    }
   ],
   "source": [
    "url = 'https://www.metacritic.com/game/playstation-5/hogwarts-legacy/critic-reviews'\n",
    "\n",
    "caps = DesiredCapabilities().CHROME\n",
    "# caps[\"pageLoadStrategy\"] = \"normal\"  #  complete\n",
    "# caps[\"pageLoadStrategy\"] = \"eager\"  #  interactive\n",
    "caps[\"pageLoadStrategy\"] = \"none\"\n",
    "driver = webdriver.Chrome(desired_capabilities=caps, executable_path=PATH)\n",
    "driver.minimize_window()\n",
    "driver.get(url)\n",
    "\n",
    "scores_dict = {}\n",
    "for i in tqdm(range(1,100)):\n",
    "    try:\n",
    "        score_xpath = f'//*[@id=\"main\"]/div[5]/div[1]/ol/li[{str(i)}]/div/div/div/div/div/div[1]/div[1]/div[2]/div'\n",
    "        critic_xpath = f'//*[@id=\"main\"]/div[5]/div[1]/ol/li[{str(i)}]/div/div/div/div/div/div[1]/div[1]/div[1]/div[1]/a'\n",
    "        score = driver.find_element(by=By.XPATH, value=score_xpath)\n",
    "        critic = driver.find_element(by=By.XPATH, value=critic_xpath)\n",
    "        scores_dict[critic.text] = float(score.text)\n",
    "    except: pass\n",
    "\n",
    "# scores_dict"
   ]
  },
  {
   "cell_type": "code",
   "execution_count": 25,
   "metadata": {},
   "outputs": [
    {
     "data": {
      "text/plain": [
       "'https://carolequintaine.com/?p=48456'"
      ]
     },
     "execution_count": 25,
     "metadata": {},
     "output_type": "execute_result"
    }
   ],
   "source": [
    "xpath = '//*[@id=\"main\"]/div[5]/div[1]/ol/li[7]/div/div/div/div/div/div[1]/div[1]/div[1]/div[1]/a'\n",
    "el = driver.find_element(by=By.XPATH, value=xpath)\n",
    "el.get_attribute('href')"
   ]
  },
  {
   "cell_type": "code",
   "execution_count": 42,
   "metadata": {},
   "outputs": [
    {
     "name": "stderr",
     "output_type": "stream",
     "text": [
      "C:\\Users\\Finarfin\\AppData\\Local\\Temp\\ipykernel_10692\\1570542984.py:11: DeprecationWarning: executable_path has been deprecated, please pass in a Service object\n",
      "  driver = webdriver.Chrome(executable_path=PATH, desired_capabilities=caps, chrome_options=chrome_options)\n",
      "C:\\Users\\Finarfin\\AppData\\Local\\Temp\\ipykernel_10692\\1570542984.py:11: DeprecationWarning: use options instead of chrome_options\n",
      "  driver = webdriver.Chrome(executable_path=PATH, desired_capabilities=caps, chrome_options=chrome_options)\n"
     ]
    }
   ],
   "source": [
    "url = 'https://www.metacritic.com/browse/games/genre/metascore/action/ps4?view=detailed' #'https://www.metacritic.com/browse/games/genre/metascore/action/ps5?view=detailed'\n",
    "\n",
    "caps = DesiredCapabilities().CHROME\n",
    "# caps[\"pageLoadStrategy\"] = \"normal\"  #  complete\n",
    "caps[\"pageLoadStrategy\"] = \"eager\"  #  interactive\n",
    "# caps[\"pageLoadStrategy\"] = \"none\"\n",
    "\n",
    "chrome_options = Options()\n",
    "chrome_options.add_argument(\"window-size=700,800\")\n",
    "\n",
    "driver = webdriver.Chrome(executable_path=PATH, desired_capabilities=caps, chrome_options=chrome_options)\n",
    "driver.minimize_window()\n",
    "driver.get(url)\n"
   ]
  },
  {
   "cell_type": "code",
   "execution_count": 43,
   "metadata": {},
   "outputs": [],
   "source": [
    "i = 2\n",
    "while True:\n",
    "    try:\n",
    "        xpath = f'//*[@id=\"main_content\"]/div[1]/div[2]/div/div[1]/div/div[9]/div/div/div[2]/ul/li[{str(i)}]/a'\n",
    "        next_page = driver.find_element(by=By.XPATH, value=xpath)\n",
    "        next_page.click()\n",
    "        i += 1\n",
    "    except: break\n"
   ]
  },
  {
   "cell_type": "code",
   "execution_count": 49,
   "metadata": {},
   "outputs": [
    {
     "data": {
      "text/plain": [
       "1"
      ]
     },
     "execution_count": 49,
     "metadata": {},
     "output_type": "execute_result"
    }
   ],
   "source": [
    "len((el.text).split('\\\\'))"
   ]
  },
  {
   "cell_type": "code",
   "execution_count": 55,
   "metadata": {},
   "outputs": [
    {
     "data": {
      "text/plain": [
       "['1', '2', '3', '4', '5', '6', '7', '8', '9', '…', '11']"
      ]
     },
     "execution_count": 55,
     "metadata": {},
     "output_type": "execute_result"
    }
   ],
   "source": [
    "el.text.split('\\n')"
   ]
  },
  {
   "cell_type": "code",
   "execution_count": null,
   "metadata": {},
   "outputs": [],
   "source": [
    "//*[@id=\"main_content\"]/div[1]/div[2]/div/div[1]/div/div[9]/div/div/div[2]/ul/li[2]/a\n",
    "//*[@id=\"main_content\"]/div[1]/div[2]/div/div[1]/div/div[9]/div/div/div[2]/ul/li[3]/a\n",
    "//*[@id=\"main_content\"]/div[1]/div[2]/div/div[1]/div/div[9]/div/div/div[2]/ul/li[4]/a"
   ]
  },
  {
   "cell_type": "code",
   "execution_count": 56,
   "metadata": {},
   "outputs": [],
   "source": [
    "PLATFORMS = ['xbox-series-x', 'ps5', 'switch']\n",
    "ALL_GENRES = ['action', 'adventure', 'fighting', 'first-person', 'flight', 'party', 'platformer', 'puzzle', 'racing', 'real-time', 'role-playing', 'simulation', 'sports', 'strategy', 'third-person', 'turn-based', 'wargame', 'wrestling']"
   ]
  },
  {
   "cell_type": "code",
   "execution_count": null,
   "metadata": {},
   "outputs": [],
   "source": [
    "\n",
    "url_pattern = f'https://www.metacritic.com/browse/games/genre/metascore/{genre}/{platform}?view=detailed'"
   ]
  },
  {
   "attachments": {},
   "cell_type": "markdown",
   "metadata": {},
   "source": [
    "## For genre"
   ]
  },
  {
   "cell_type": "code",
   "execution_count": 57,
   "metadata": {},
   "outputs": [
    {
     "name": "stderr",
     "output_type": "stream",
     "text": [
      "C:\\Users\\Finarfin\\AppData\\Local\\Temp\\ipykernel_10692\\3720549992.py:11: DeprecationWarning: executable_path has been deprecated, please pass in a Service object\n",
      "  driver = webdriver.Chrome(executable_path=PATH, desired_capabilities=caps, chrome_options=chrome_options)\n",
      "C:\\Users\\Finarfin\\AppData\\Local\\Temp\\ipykernel_10692\\3720549992.py:11: DeprecationWarning: use options instead of chrome_options\n",
      "  driver = webdriver.Chrome(executable_path=PATH, desired_capabilities=caps, chrome_options=chrome_options)\n"
     ]
    }
   ],
   "source": [
    "url = 'https://www.metacritic.com/game/pc/atomic-heart'\n",
    "\n",
    "caps = DesiredCapabilities().CHROME\n",
    "# caps[\"pageLoadStrategy\"] = \"normal\"  #  complete\n",
    "caps[\"pageLoadStrategy\"] = \"eager\"  #  interactive\n",
    "# caps[\"pageLoadStrategy\"] = \"none\"\n",
    "\n",
    "chrome_options = Options()\n",
    "chrome_options.add_argument(\"window-size=700,800\")\n",
    "\n",
    "driver = webdriver.Chrome(executable_path=PATH, desired_capabilities=caps, chrome_options=chrome_options)\n",
    "driver.minimize_window()\n",
    "driver.get(url)\n"
   ]
  },
  {
   "cell_type": "code",
   "execution_count": 58,
   "metadata": {},
   "outputs": [],
   "source": [
    "xpath = '//*[@id=\"main\"]/div/div[1]/div[1]/div[3]/div/div/div[2]/div[2]/div[2]/ul/li[2]'\n",
    "el = driver.find_element(by=By.XPATH, value=xpath)"
   ]
  },
  {
   "cell_type": "code",
   "execution_count": 59,
   "metadata": {},
   "outputs": [
    {
     "data": {
      "text/plain": [
       "'Genre(s): Action, Shooter, First-Person, Arcade'"
      ]
     },
     "execution_count": 59,
     "metadata": {},
     "output_type": "execute_result"
    }
   ],
   "source": [
    "el.text"
   ]
  },
  {
   "attachments": {},
   "cell_type": "markdown",
   "metadata": {},
   "source": [
    "<h2>What data we want:</h2>\n",
    "<ul>\n",
    "<li>Name</li>\n",
    "<li>Genre</li>\n",
    "<li>Platform</li>\n",
    "<li>Release date</li>\n",
    "<li>Metascore</li>\n",
    "<li>Metascore status</li>\n",
    "<li>Number of critic reviews</li>\n",
    "<li>User score</li>\n",
    "<li>User score status</li>\n",
    "<li>Number of user ratings</li>\n",
    "<li>Developer</li>\n",
    "<li>Distributer</li>\n",
    "<li>#Positive, #Mixed, #Negative</li>\n",
    "<li># of players</li>\n",
    "<li>Rating</li>\n",
    "<li>Summary</li>\n",
    "<li>AWARDS & RANKINGS</li>\n",
    "<li>Each critic score</li>\n",
    "<li></li>\n",
    "<li></li>\n",
    "<li></li>\n",
    "\n",
    "</ul>"
   ]
  }
 ],
 "metadata": {
  "kernelspec": {
   "display_name": "Python 3",
   "language": "python",
   "name": "python3"
  },
  "language_info": {
   "codemirror_mode": {
    "name": "ipython",
    "version": 3
   },
   "file_extension": ".py",
   "mimetype": "text/x-python",
   "name": "python",
   "nbconvert_exporter": "python",
   "pygments_lexer": "ipython3",
   "version": "3.10.10"
  },
  "orig_nbformat": 4,
  "vscode": {
   "interpreter": {
    "hash": "c8cd7ea2ef3b5a2b019787689d3a11867f27cd6c1a09ce5480ea7745ca6dd520"
   }
  }
 },
 "nbformat": 4,
 "nbformat_minor": 2
}
