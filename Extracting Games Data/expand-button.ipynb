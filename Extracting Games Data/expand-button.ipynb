{
 "cells": [
  {
   "cell_type": "code",
   "execution_count": 1,
   "metadata": {},
   "outputs": [],
   "source": [
    "from tqdm import tqdm\n",
    "import re\n",
    "from selenium import webdriver\n",
    "from selenium.webdriver.common.by import By\n",
    "from selenium.webdriver.common.desired_capabilities import DesiredCapabilities\n",
    "from selenium.webdriver.chrome.options import Options\n",
    "import warnings\n",
    "warnings.filterwarnings(\"ignore\")\n",
    "PATH = 'C:/Program Files/chromedriver.exe'"
   ]
  },
  {
   "cell_type": "code",
   "execution_count": 2,
   "metadata": {},
   "outputs": [],
   "source": [
    "def open_url(url, pageLoadStrategy='eager'):\n",
    "    caps = DesiredCapabilities().CHROME ; caps[\"pageLoadStrategy\"] = pageLoadStrategy # \"eager\", \"normal\", \"none\"\n",
    "    chrome_options = Options()  ; chrome_options.add_argument(\"window-size=700,800\")\n",
    "\n",
    "    driver = webdriver.Chrome(executable_path=PATH, desired_capabilities=caps, chrome_options=chrome_options)\n",
    "    driver.minimize_window()\n",
    "    driver.get(url)\n",
    "\n",
    "    return driver\n",
    "\n",
    "def get_element_by_xpath(driver, xpath):\n",
    "    return driver.find_element(by=By.XPATH, value=xpath)"
   ]
  },
  {
   "cell_type": "code",
   "execution_count": 3,
   "metadata": {},
   "outputs": [],
   "source": [
    "url1 = 'https://www.metacritic.com/game/xbox-series-x/f1-2021'\n",
    "url2 = 'https://www.metacritic.com/game/xbox-series-x/immortality'\n",
    "url3 = 'https://www.metacritic.com/game/xbox-series-x/elden-ring'\n",
    "url4 = 'https://www.metacritic.com/game/xbox-series-x/martha-is-dead'\n",
    "url5 = 'https://www.metacritic.com/game/xbox-series-x/halo-infinite'\n",
    "url6 = 'https://www.metacritic.com/game/xbox-series-x/hades'\n",
    "url7 = 'https://www.metacritic.com/game/xbox-series-x/forza-horizon-5'\n",
    "\n",
    "urls = [url1, url2, url3, url4, url5, url6, url7,\n",
    "        'https://www.metacritic.com/game/xbox-series-x/rogue-legacy-2',\n",
    "        'https://www.metacritic.com/game/xbox-series-x/atari-50-the-anniversary-celebration',\n",
    "        'https://www.metacritic.com/game/xbox-series-x/life-is-strange-true-colors',\n",
    "        'https://www.metacritic.com/game/xbox-series-x/far-cry-6',\n",
    "        'https://www.metacritic.com/game/xbox-series-x/spellforce-iii-reforced',\n",
    "        'https://www.metacritic.com/game/xbox-series-x/dying-light-2-stay-human',\n",
    "        'https://www.metacritic.com/game/xbox-series-x/monster-energy-supercross---the-official-videogame-5',\n",
    "        'https://www.metacritic.com/game/xbox-series-x/the-dark-pictures-anthology-house-of-ashes',\n",
    "        'https://www.metacritic.com/game/xbox-series-x/vampire-the-masquerade---swansong',\n",
    "        'https://www.metacritic.com/game/xbox-series-x/werewolf-the-apocalypse---earthblood',\n",
    "        'https://www.metacritic.com/game/xbox-series-x/crossfirex']"
   ]
  },
  {
   "cell_type": "code",
   "execution_count": 4,
   "metadata": {},
   "outputs": [
    {
     "name": "stdout",
     "output_type": "stream",
     "text": [
      "Expand\n",
      "Expand\n",
      "Expand\n",
      "Expand\n",
      "Expand\n",
      "Expand\n",
      "Expand\n",
      "Expand\n",
      "Expand\n",
      "Expand\n",
      "Expand\n",
      "Expand\n",
      "Expand\n",
      "Expand\n",
      "Expand\n",
      "Expand\n",
      "Expand\n",
      "Expand\n"
     ]
    }
   ],
   "source": [
    "for url in urls:\n",
    "    driver = open_url(url)\n",
    "    try: \n",
    "        el = driver.find_element(by=By.CLASS_NAME, value='toggle_expand')\n",
    "        print(el.text)\n",
    "    except:\n",
    "        print(url)\n",
    "    driver.close"
   ]
  }
 ],
 "metadata": {
  "kernelspec": {
   "display_name": "Python 3",
   "language": "python",
   "name": "python3"
  },
  "language_info": {
   "codemirror_mode": {
    "name": "ipython",
    "version": 3
   },
   "file_extension": ".py",
   "mimetype": "text/x-python",
   "name": "python",
   "nbconvert_exporter": "python",
   "pygments_lexer": "ipython3",
   "version": "3.10.10"
  },
  "orig_nbformat": 4,
  "vscode": {
   "interpreter": {
    "hash": "c8cd7ea2ef3b5a2b019787689d3a11867f27cd6c1a09ce5480ea7745ca6dd520"
   }
  }
 },
 "nbformat": 4,
 "nbformat_minor": 2
}
