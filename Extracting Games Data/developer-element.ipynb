{
 "cells": [
  {
   "cell_type": "code",
   "execution_count": 7,
   "metadata": {},
   "outputs": [],
   "source": [
    "from tqdm import tqdm\n",
    "import re\n",
    "import numpy as np\n",
    "from selenium import webdriver\n",
    "from selenium.webdriver.common.by import By\n",
    "from selenium.webdriver.common.desired_capabilities import DesiredCapabilities\n",
    "from selenium.webdriver.chrome.options import Options\n",
    "import warnings\n",
    "warnings.filterwarnings(\"ignore\")\n",
    "PATH = 'C:/Program Files/chromedriver.exe'"
   ]
  },
  {
   "cell_type": "code",
   "execution_count": 2,
   "metadata": {},
   "outputs": [],
   "source": [
    "def open_url(url, pageLoadStrategy='eager'):\n",
    "    caps = DesiredCapabilities().CHROME ; caps[\"pageLoadStrategy\"] = pageLoadStrategy # \"eager\", \"normal\", \"none\"\n",
    "    chrome_options = Options()  ; chrome_options.add_argument(\"window-size=700,800\")\n",
    "\n",
    "    driver = webdriver.Chrome(executable_path=PATH, desired_capabilities=caps, chrome_options=chrome_options)\n",
    "    driver.minimize_window()\n",
    "    driver.get(url)\n",
    "\n",
    "    return driver\n",
    "\n",
    "def get_element_by_xpath(driver, xpath):\n",
    "    return driver.find_element(by=By.XPATH, value=xpath)"
   ]
  },
  {
   "cell_type": "code",
   "execution_count": 3,
   "metadata": {},
   "outputs": [],
   "source": [
    "url1 = 'https://www.metacritic.com/game/xbox-series-x/f1-2021'\n",
    "url2 = 'https://www.metacritic.com/game/xbox-series-x/immortality'\n",
    "url3 = 'https://www.metacritic.com/game/xbox-series-x/elden-ring'\n",
    "url4 = 'https://www.metacritic.com/game/xbox-series-x/martha-is-dead'\n",
    "url5 = 'https://www.metacritic.com/game/xbox-series-x/halo-infinite'\n",
    "url6 = 'https://www.metacritic.com/game/xbox-series-x/hades'\n",
    "url7 = 'https://www.metacritic.com/game/xbox-series-x/forza-horizon-5'\n",
    "\n",
    "urls = [url1, url2, url3, url4, url5, url6, url7,\n",
    "        'https://www.metacritic.com/game/xbox-series-x/rogue-legacy-2',\n",
    "        'https://www.metacritic.com/game/xbox-series-x/atari-50-the-anniversary-celebration',\n",
    "        'https://www.metacritic.com/game/xbox-series-x/life-is-strange-true-colors',\n",
    "        'https://www.metacritic.com/game/xbox-series-x/far-cry-6',\n",
    "        'https://www.metacritic.com/game/xbox-series-x/spellforce-iii-reforced',\n",
    "        'https://www.metacritic.com/game/xbox-series-x/dying-light-2-stay-human',\n",
    "        'https://www.metacritic.com/game/xbox-series-x/monster-energy-supercross---the-official-videogame-5',\n",
    "        'https://www.metacritic.com/game/xbox-series-x/the-dark-pictures-anthology-house-of-ashes',\n",
    "        'https://www.metacritic.com/game/xbox-series-x/vampire-the-masquerade---swansong',\n",
    "        'https://www.metacritic.com/game/xbox-series-x/werewolf-the-apocalypse---earthblood',\n",
    "        'https://www.metacritic.com/game/xbox-series-x/crossfirex']"
   ]
  },
  {
   "attachments": {},
   "cell_type": "markdown",
   "metadata": {},
   "source": [
    "# Score"
   ]
  },
  {
   "cell_type": "code",
   "execution_count": 15,
   "metadata": {},
   "outputs": [
    {
     "name": "stdout",
     "output_type": "stream",
     "text": [
      "Metascore\n",
      "87\n",
      "Generally favorable reviews\n",
      "based on 98 Critic Reviews\n",
      "What's this?\n",
      "User Score\n",
      "7.9\n",
      "Generally favorable reviews\n",
      "based on 5333 Ratings\n",
      "Your Score\n",
      "0\n",
      "=====================\n",
      "Metascore\n",
      "38\n",
      "Generally unfavorable reviews\n",
      "based on 22 Critic Reviews\n",
      "What's this?\n",
      "User Score\n",
      "3.3\n",
      "Generally unfavorable reviews\n",
      "based on 288 Ratings\n",
      "Your Score\n",
      "0\n",
      "=====================\n",
      "Metascore\n",
      "88\n",
      "Generally favorable reviews\n",
      "based on 14 Critic Reviews\n",
      "What's this?\n",
      "User Score\n",
      "7.3\n",
      "Mixed or average reviews\n",
      "based on 71 Ratings\n",
      "Your Score\n",
      "0\n",
      "=====================\n",
      "Metascore\n",
      "65\n",
      "Mixed or average reviews\n",
      "based on 28 Critic Reviews\n",
      "What's this?\n",
      "User Score\n",
      "7.1\n",
      "Mixed or average reviews\n",
      "based on 32 Ratings\n",
      "Your Score\n",
      "0\n",
      "=====================\n",
      "Metascore\n",
      "58\n",
      "Mixed or average reviews\n",
      "based on 22 Critic Reviews\n",
      "What's this?\n",
      "User Score\n",
      "4.6\n",
      "Generally unfavorable reviews\n",
      "based on 23 Ratings\n",
      "Your Score\n",
      "0\n",
      "=====================\n"
     ]
    }
   ],
   "source": [
    "for url in np.random.choice(urls,5):\n",
    "    driver = open_url(url)\n",
    "    try: \n",
    "        el = driver.find_element(by=By.CLASS_NAME, value='product_scores')\n",
    "        print(el.text)\n",
    "    except:\n",
    "        print(url)\n",
    "    driver.close\n",
    "    print('=====================')"
   ]
  },
  {
   "attachments": {},
   "cell_type": "markdown",
   "metadata": {},
   "source": [
    "# score_distribution"
   ]
  },
  {
   "cell_type": "code",
   "execution_count": 24,
   "metadata": {},
   "outputs": [
    {
     "name": "stdout",
     "output_type": "stream",
     "text": [
      "Positive:\n",
      "15\n",
      "out of 17\n",
      "Mixed:\n",
      "2\n",
      "out of 17\n",
      "Negative:\n",
      "0\n",
      "------------------------\n",
      "Positive:\n",
      "21\n",
      "out of 42\n",
      "Mixed:\n",
      "14\n",
      "out of 42\n",
      "Negative:\n",
      "7\n",
      "out of 42\n",
      "------------------------\n",
      "=======================\n",
      "=======================\n",
      "Positive:\n",
      "19\n",
      "out of 19\n",
      "Mixed:\n",
      "0\n",
      "Negative:\n",
      "0\n",
      "------------------------\n",
      "Positive:\n",
      "722\n",
      "out of 995\n",
      "Mixed:\n",
      "87\n",
      "out of 995\n",
      "Negative:\n",
      "186\n",
      "out of 995\n",
      "------------------------\n",
      "=======================\n",
      "=======================\n",
      "Positive:\n",
      "8\n",
      "out of 12\n",
      "Mixed:\n",
      "4\n",
      "out of 12\n",
      "Negative:\n",
      "0\n",
      "------------------------\n",
      "Positive:\n",
      "11\n",
      "out of 15\n",
      "Mixed:\n",
      "4\n",
      "out of 15\n",
      "Negative:\n",
      "0\n",
      "------------------------\n",
      "=======================\n",
      "=======================\n",
      "Positive:\n",
      "103\n",
      "out of 103\n",
      "Mixed:\n",
      "0\n",
      "Negative:\n",
      "0\n",
      "------------------------\n",
      "Positive:\n",
      "1,261\n",
      "out of 1627\n",
      "Mixed:\n",
      "84\n",
      "out of 1627\n",
      "Negative:\n",
      "282\n",
      "out of 1627\n",
      "------------------------\n",
      "=======================\n",
      "=======================\n",
      "Positive:\n",
      "0\n",
      "Mixed:\n",
      "5\n",
      "out of 22\n",
      "Negative:\n",
      "17\n",
      "out of 22\n",
      "------------------------\n",
      "Positive:\n",
      "35\n",
      "out of 149\n",
      "Mixed:\n",
      "11\n",
      "out of 149\n",
      "Negative:\n",
      "103\n",
      "out of 149\n",
      "------------------------\n",
      "=======================\n",
      "=======================\n"
     ]
    }
   ],
   "source": [
    "for url in np.random.choice(urls,5):\n",
    "    driver = open_url(url)\n",
    "    try: \n",
    "        els = driver.find_elements(by=By.CLASS_NAME, value='score_distribution')\n",
    "        for el in els:\n",
    "            print(el.text)\n",
    "            print('------------------------')\n",
    "        print('=======================\\n=======================')\n",
    "    except:\n",
    "        print(url)\n",
    "    driver.close"
   ]
  },
  {
   "attachments": {},
   "cell_type": "markdown",
   "metadata": {},
   "source": [
    "# Awards"
   ]
  },
  {
   "cell_type": "code",
   "execution_count": 40,
   "metadata": {},
   "outputs": [
    {
     "name": "stdout",
     "output_type": "stream",
     "text": [
      "#50 Best Xbox Series X Game of 2021\n",
      "#40 Most Discussed Xbox Series X Game of 2021\n",
      "=================================\n",
      "#49 Best Xbox Series X Game of 2022\n",
      "=================================\n",
      "#16 Best Xbox Series X Game of 2021\n",
      "#25 Most Discussed Xbox Series X Game of 2021\n",
      "=================================\n",
      "#78 Best Xbox Series X Game of 2021\n",
      "#53 Most Discussed Xbox Series X Game of 2021\n",
      "=================================\n",
      "#27 Best Xbox Series X Game of 2021\n",
      "#12 Most Discussed Xbox Series X Game of 2021\n",
      "=================================\n"
     ]
    }
   ],
   "source": [
    "for url in np.random.choice(urls,5):\n",
    "    driver = open_url(url)\n",
    "    try: \n",
    "        el = get_element_by_xpath(driver, '//*[@id=\"main\"]/div/div[3]/div[2]/div[1]/div[2]')\n",
    "        print(el.text)\n",
    "    except:\n",
    "        print(url)\n",
    "    print('=================================')\n",
    "    driver.close"
   ]
  },
  {
   "cell_type": "markdown",
   "metadata": {},
   "source": [
    "# summary_details"
   ]
  },
  {
   "cell_type": "code",
   "execution_count": null,
   "metadata": {},
   "outputs": [
    {
     "name": "stdout",
     "output_type": "stream",
     "text": [
      "Cellar Door Games\n",
      "Release Date: Apr 28, 2022\n",
      "Also On: PC, Switch, Xbox One\n",
      "------------------------\n",
      "Summary: Rogue Legacy 2 is what you'd get if you mashed Rogue Legacy and a sequel together. Every time you die, your children will succeed you, and each child is unique. Your daughter might be a Colourblind Archer, and your son could be a Pacifistic Chef. Either way, one of them is getting conscripted.\n",
      "------------------------\n",
      "Developer: Cellar Door Games\n",
      "Genre(s): Action, Role-Playing, Platformer, Roguelike, 2D\n",
      "# of players: No Online Multiplayer\n",
      "Cheats: On GameFAQs\n",
      "Rating: E10+\n",
      "More Details and Credits »\n",
      "------------------------\n",
      "=======================\n",
      "=======================\n",
      "Square Enix\n",
      "Release Date: Sep 10, 2021\n",
      "Also On: PC, PlayStation 4, PlayStation 5, Stadia, Switch, Xbox One\n",
      "------------------------\n",
      "Summary: A bold new era of the award-winning Life is Strange begins, with an all-new playable lead character and a thrilling mystery to solve!\n",
      "\n",
      "Alex Chen has long suppressed her 'curse': the supernatural ability to experience, absorb and manipulate the strong emotions of others, which she sees as\n",
      "\n",
      "\n",
      "\n",
      "… Expand\n",
      "------------------------\n",
      "Developer: Deck Nine Games\n",
      "Genre(s): Action Adventure, General\n",
      "# of players: No Online Multiplayer\n",
      "Cheats: On GameFAQs\n",
      "Available On: Stadia\n",
      "Rating: M\n",
      "More Details and Credits »\n",
      "------------------------\n",
      "=======================\n",
      "=======================\n",
      "Ubisoft\n",
      "Release Date: Oct 7, 2021\n",
      "Also On: PC, PlayStation 4, PlayStation 5, Stadia, Xbox One\n",
      "------------------------\n",
      "Summary: Far Cry 6 reveals a Caribbean island simmering with revolutionary tension. The title features actor Giancarlo Esposito (“Better Call Saul,” “The Boys,” “The Mandalorian”) as President Anton Castillo, the violent leader who grips the island of Yara with an iron fist, promising a return to its… Expand\n",
      "------------------------\n",
      "Developer: Ubisoft Toronto\n",
      "Genre(s): Action Adventure, Open-World\n",
      "# of players: 2\n",
      "Cheats: On GameFAQs\n",
      "Available On: Stadia\n",
      "Rating: M\n",
      "More Details and Credits »\n",
      "------------------------\n",
      "=======================\n",
      "=======================\n",
      "Half Mermaid\n",
      "Release Date: Aug 30, 2022\n",
      "Also On: iPhone/iPad, PC\n",
      "------------------------\n",
      "Summary: Marissa Marcel was a film star. She made three movies. But none of the movies was ever released. And Marissa Marcel disappeared. An interactive trilogy from Sam Barlow, creator of Her Story.\n",
      "------------------------\n",
      "Developer: Sam Barlow\n",
      "Genre(s): Adventure, General\n",
      "Cheats: On GameFAQs\n",
      "More Details and Credits »\n",
      "------------------------\n",
      "=======================\n",
      "=======================\n",
      "Cellar Door Games\n",
      "Release Date: Apr 28, 2022\n",
      "Also On: PC, Switch, Xbox One\n",
      "------------------------\n",
      "Summary: Rogue Legacy 2 is what you'd get if you mashed Rogue Legacy and a sequel together. Every time you die, your children will succeed you, and each child is unique. Your daughter might be a Colourblind Archer, and your son could be a Pacifistic Chef. Either way, one of them is getting conscripted.\n",
      "------------------------\n",
      "Developer: Cellar Door Games\n",
      "Genre(s): Action, Role-Playing, Platformer, Roguelike, 2D\n",
      "# of players: No Online Multiplayer\n",
      "Cheats: On GameFAQs\n",
      "Rating: E10+\n",
      "More Details and Credits »\n",
      "------------------------\n",
      "=======================\n",
      "=======================\n"
     ]
    }
   ],
   "source": [
    "for url in np.random.choice(urls,5):\n",
    "    driver = open_url(url)\n",
    "    try: \n",
    "        els = driver.find_elements(by=By.CLASS_NAME, value='summary_details')\n",
    "        for el in els:\n",
    "            print(el.text)\n",
    "            print('------------------------')\n",
    "        print('=======================\\n=======================')\n",
    "    except:\n",
    "        print(url)\n",
    "    driver.close"
   ]
  },
  {
   "attachments": {},
   "cell_type": "markdown",
   "metadata": {},
   "source": [
    "# 3rd summary detail\n",
    "### (this cant be used because the results come in different structures)\n",
    "### therefore, we have to grab each one of them individually"
   ]
  },
  {
   "cell_type": "code",
   "execution_count": 41,
   "metadata": {},
   "outputs": [
    {
     "name": "stdout",
     "output_type": "stream",
     "text": [
      "Developer: From Software\n",
      "Genre(s): Role-Playing, Action RPG\n",
      "# of players: Up to 4\n",
      "Cheats: On GameFAQs\n",
      "Rating: M\n",
      "More Details and Credits »\n",
      "=======================\n",
      "=======================\n",
      "Developer: Cellar Door Games\n",
      "Genre(s): Action, Role-Playing, Platformer, Roguelike, 2D\n",
      "# of players: No Online Multiplayer\n",
      "Cheats: On GameFAQs\n",
      "Rating: E10+\n",
      "More Details and Credits »\n",
      "=======================\n",
      "=======================\n",
      "Developer: Cellar Door Games\n",
      "Genre(s): Action, Role-Playing, Platformer, Roguelike, 2D\n",
      "# of players: No Online Multiplayer\n",
      "Cheats: On GameFAQs\n",
      "Rating: E10+\n",
      "More Details and Credits »\n",
      "=======================\n",
      "=======================\n",
      "Developer: Smilegate\n",
      "Genre(s): Action, Shooter, First-Person, Tactical\n",
      "Cheats: On GameFAQs\n",
      "Rating: M\n",
      "More Details and Credits »\n",
      "=======================\n",
      "=======================\n",
      "Developer: Cellar Door Games\n",
      "Genre(s): Action, Role-Playing, Platformer, Roguelike, 2D\n",
      "# of players: No Online Multiplayer\n",
      "Cheats: On GameFAQs\n",
      "Rating: E10+\n",
      "More Details and Credits »\n",
      "=======================\n",
      "=======================\n"
     ]
    }
   ],
   "source": [
    "for url in np.random.choice(urls,5):\n",
    "    driver = open_url(url)\n",
    "    try: \n",
    "        el = driver.find_elements(by=By.CLASS_NAME, value='summary_details')[2]\n",
    "        print(el.text)\n",
    "        print('=======================\\n=======================')\n",
    "    except:\n",
    "        print(url)\n",
    "    driver.close"
   ]
  },
  {
   "cell_type": "markdown",
   "metadata": {},
   "source": [
    "# Developer"
   ]
  },
  {
   "cell_type": "code",
   "execution_count": null,
   "metadata": {},
   "outputs": [
    {
     "name": "stdout",
     "output_type": "stream",
     "text": [
      "Developer: Codemasters\n",
      "Developer: Sam Barlow\n",
      "Developer: From Software\n",
      "Developer: LKA\n",
      "Developer: 343 Industries\n",
      "Developer: Supergiant Games\n",
      "Developer: Playground Games\n",
      "Developer: Cellar Door Games\n",
      "Developer: Digital Eclipse\n",
      "Developer: Deck Nine Games\n",
      "Developer: Ubisoft Toronto\n",
      "Developer: Grimlore Games\n",
      "Developer: Techland, Warner Bros. Interactive Entertainment\n",
      "Developer: Milestone S.r.l\n",
      "Developer: Supermassive Games\n",
      "Developer: Big Bad Wolf\n",
      "Developer: Cyanide\n",
      "Developer: Smilegate\n"
     ]
    }
   ],
   "source": [
    "for url in urls[:]:\n",
    "    driver = open_url(url)\n",
    "    try: \n",
    "        el = driver.find_element(by=By.CLASS_NAME, value='developer')\n",
    "        print(el.text)\n",
    "    except:\n",
    "        print(url)\n",
    "    driver.close"
   ]
  },
  {
   "attachments": {},
   "cell_type": "markdown",
   "metadata": {},
   "source": [
    "# Genre(s)"
   ]
  },
  {
   "cell_type": "code",
   "execution_count": null,
   "metadata": {},
   "outputs": [],
   "source": [
    "for url in np.random.choice(urls,5):\n",
    "    driver = open_url(url)\n",
    "    try: \n",
    "        el = driver.find_element(by=By.CLASS_NAME, value='product_genre')\n",
    "        print(el.text)\n",
    "    except:\n",
    "        print(url)\n",
    "    driver.close"
   ]
  },
  {
   "attachments": {},
   "cell_type": "markdown",
   "metadata": {},
   "source": [
    "# # of players"
   ]
  },
  {
   "cell_type": "code",
   "execution_count": 45,
   "metadata": {},
   "outputs": [
    {
     "name": "stdout",
     "output_type": "stream",
     "text": [
      "# of players: 2\n",
      "# of players: No Online Multiplayer\n",
      "# of players: 2\n",
      "# of players: Up to 20\n",
      "# of players: 2\n"
     ]
    }
   ],
   "source": [
    "for url in np.random.choice(urls,5):\n",
    "    driver = open_url(url)\n",
    "    try: \n",
    "        el = driver.find_element(by=By.CLASS_NAME, value='product_players')\n",
    "        print(el.text)\n",
    "    except:\n",
    "        print(url)\n",
    "    driver.close"
   ]
  },
  {
   "attachments": {},
   "cell_type": "markdown",
   "metadata": {},
   "source": [
    "# Rating"
   ]
  },
  {
   "cell_type": "code",
   "execution_count": 47,
   "metadata": {},
   "outputs": [
    {
     "name": "stdout",
     "output_type": "stream",
     "text": [
      "Rating: M\n",
      "Rating: E\n",
      "Rating: M\n",
      "Rating: E10+\n",
      "https://www.metacritic.com/game/xbox-series-x/immortality\n"
     ]
    }
   ],
   "source": [
    "for url in np.random.choice(urls,5):\n",
    "    driver = open_url(url)\n",
    "    try: \n",
    "        el = driver.find_element(by=By.CLASS_NAME, value='product_rating')\n",
    "        print(el.text)\n",
    "    except:\n",
    "        print(url)\n",
    "    driver.close"
   ]
  }
 ],
 "metadata": {
  "kernelspec": {
   "display_name": "Python 3",
   "language": "python",
   "name": "python3"
  },
  "language_info": {
   "codemirror_mode": {
    "name": "ipython",
    "version": 3
   },
   "file_extension": ".py",
   "mimetype": "text/x-python",
   "name": "python",
   "nbconvert_exporter": "python",
   "pygments_lexer": "ipython3",
   "version": "3.10.10"
  },
  "orig_nbformat": 4,
  "vscode": {
   "interpreter": {
    "hash": "c8cd7ea2ef3b5a2b019787689d3a11867f27cd6c1a09ce5480ea7745ca6dd520"
   }
  }
 },
 "nbformat": 4,
 "nbformat_minor": 2
}
