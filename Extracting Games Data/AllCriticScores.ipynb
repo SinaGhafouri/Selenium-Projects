{
 "cells": [
  {
   "cell_type": "code",
   "execution_count": 1,
   "metadata": {},
   "outputs": [],
   "source": [
    "from tqdm import tqdm\n",
    "import re\n",
    "import numpy as np\n",
    "from selenium import webdriver\n",
    "from selenium.webdriver.common.by import By\n",
    "from selenium.webdriver.common.desired_capabilities import DesiredCapabilities\n",
    "from selenium.webdriver.chrome.options import Options\n",
    "import warnings\n",
    "warnings.filterwarnings(\"ignore\")\n",
    "PATH = 'C:/Program Files/chromedriver.exe'"
   ]
  },
  {
   "cell_type": "code",
   "execution_count": 2,
   "metadata": {},
   "outputs": [],
   "source": [
    "def open_url(url, pageLoadStrategy='eager'):\n",
    "    caps = DesiredCapabilities().CHROME ; caps[\"pageLoadStrategy\"] = pageLoadStrategy # \"eager\", \"normal\", \"none\"\n",
    "    chrome_options = Options()  ; chrome_options.add_argument(\"window-size=700,800\")\n",
    "\n",
    "    driver = webdriver.Chrome(executable_path=PATH, desired_capabilities=caps, chrome_options=chrome_options)\n",
    "    driver.minimize_window()\n",
    "    driver.get(url)\n",
    "\n",
    "    return driver\n",
    "\n",
    "def get_element_by_xpath(driver, xpath):\n",
    "    return driver.find_element(by=By.XPATH, value=xpath)"
   ]
  },
  {
   "cell_type": "code",
   "execution_count": 3,
   "metadata": {},
   "outputs": [],
   "source": [
    "url1 = 'https://www.metacritic.com/game/xbox-series-x/f1-2021'\n",
    "url2 = 'https://www.metacritic.com/game/xbox-series-x/immortality'\n",
    "url3 = 'https://www.metacritic.com/game/xbox-series-x/elden-ring'\n",
    "url4 = 'https://www.metacritic.com/game/xbox-series-x/martha-is-dead'\n",
    "url5 = 'https://www.metacritic.com/game/xbox-series-x/halo-infinite'\n",
    "url6 = 'https://www.metacritic.com/game/xbox-series-x/hades'\n",
    "url7 = 'https://www.metacritic.com/game/xbox-series-x/forza-horizon-5'\n",
    "\n",
    "urls = [url1, url2, url3, url4, url5, url6, url7,\n",
    "        'https://www.metacritic.com/game/xbox-series-x/rogue-legacy-2',\n",
    "        'https://www.metacritic.com/game/xbox-series-x/atari-50-the-anniversary-celebration',\n",
    "        'https://www.metacritic.com/game/xbox-series-x/life-is-strange-true-colors',\n",
    "        'https://www.metacritic.com/game/xbox-series-x/far-cry-6',\n",
    "        'https://www.metacritic.com/game/xbox-series-x/spellforce-iii-reforced',\n",
    "        'https://www.metacritic.com/game/xbox-series-x/dying-light-2-stay-human',\n",
    "        'https://www.metacritic.com/game/xbox-series-x/monster-energy-supercross---the-official-videogame-5',\n",
    "        'https://www.metacritic.com/game/xbox-series-x/the-dark-pictures-anthology-house-of-ashes',\n",
    "        'https://www.metacritic.com/game/xbox-series-x/vampire-the-masquerade---swansong',\n",
    "        'https://www.metacritic.com/game/xbox-series-x/werewolf-the-apocalypse---earthblood',\n",
    "        'https://www.metacritic.com/game/xbox-series-x/crossfirex']\n",
    "\n",
    "add_link = '/critic-reviews'"
   ]
  },
  {
   "cell_type": "markdown",
   "metadata": {},
   "source": [
    "# Critic-scores"
   ]
  },
  {
   "cell_type": "code",
   "execution_count": 4,
   "metadata": {},
   "outputs": [],
   "source": [
    "<div class=\"review_grade\">\n",
    "                                    \n",
    "\n",
    "        \n",
    "<div class=\"metascore_w medium game positive indiv perfect\">100</div>\n",
    "\n",
    "                                </div>"
   ]
  },
  {
   "cell_type": "code",
   "execution_count": 10,
   "metadata": {},
   "outputs": [
    {
     "data": {
      "text/plain": [
       "17"
      ]
     },
     "execution_count": 10,
     "metadata": {},
     "output_type": "execute_result"
    }
   ],
   "source": [
    "driver = open_url(url1+add_link)\n",
    "el = driver.find_elements(by=By.CLASS_NAME, value='critic_review')\n",
    "len(el)"
   ]
  },
  {
   "cell_type": "code",
   "execution_count": 13,
   "metadata": {},
   "outputs": [
    {
     "name": "stdout",
     "output_type": "stream",
     "text": [
      "['TheXboxHub', 'Jul 12, 2021', '100', \"F1 2021 is probably the most in-depth, customisable and amendable F1 racer to date, so much so that there’s little that any fan of the sport could ever really want more of. Yes, it would have been nice to see Codemasters go deeper with their Braking Point story, yet it's extremely tricky to find anything too critical of what they've produced with F1 2021. After honing their skills with some glorious F1 racing experiences over the years, once again the latest edition manages to be the finest yet and should be the go-to racer for any fanatics of the sport.\", \"All this publication's reviews\", 'Read full review']\n",
      "============\n",
      "============\n",
      "['SomosXbox', 'Jul 25, 2021', '93', 'F1 2021 is one of the best editions of the saga. It’s a solid game, with impressive graphics at 4K/60 fps and outstanding sound effects that try to transport us to a TV race. All of that is joined with a robust gameplay that adapts to every kind of player and a huge variety of game modes for single player and multiplayer.', \"All this publication's reviews\", 'Read full review']\n",
      "============\n",
      "============\n",
      "['Xbox Tavern', 'Jul 13, 2021', '93', 'Despite Breaking Point not hitting the mark with me, F1 2021 is an exceptional game for their first entry onto the Series X consoles and will keep F1 fans happy for another year.', \"All this publication's reviews\", 'Read full review']\n",
      "============\n",
      "============\n",
      "['COGconnected', 'Jul 12, 2021', '92', 'For anyone who has even the slightest interest in Formula 1 racing - and thanks to the Netflix documentary series Drive to Survive there may be many with their curiosity piqued - F1 2021 will become their new sports gaming pastime. Catering to both casual newcomers and the most exacting simulation-seekers, F1 2021 offers a mind-blowing amount of polished and entertaining content, whether your preference is to race alone or with others.', \"All this publication's reviews\", 'Read full review']\n",
      "============\n",
      "============\n",
      "['Generación Xbox', 'Jul 27, 2021', '90', 'F1 2021 brings some interesting improvements to Xbox Series that make it a serious contender for best driving game of the year.', \"All this publication's reviews\", 'Read full review']\n",
      "============\n",
      "============\n",
      "['Cultured Vultures', 'Jul 23, 2021', '90', 'F1 2021 manages to successfully include an engaging story mode while also making a series of improvements that keeps the racing game ahead of the pack.', \"All this publication's reviews\", 'Read full review']\n",
      "============\n",
      "============\n",
      "['Finger Guns', 'Jul 16, 2021', '90', 'The most essential game in the series for years, F1 2021 is a thoroughly enjoyable, accessible and gorgeous racing game. The new Braking Point narrative aspect is a triumph and there’s content and assistance options that will likely please most F1 fans.', \"All this publication's reviews\", 'Read full review']\n",
      "============\n",
      "============\n",
      "['Xbox Achievements', 'Jul 12, 2021', '90', \"While it's a shame that classic cars have been nixed this year, F1 2021 is nonetheless an exhilarating racing game brimming with compelling modes and customisation features, as well as the new Braking Point story mode, for countless hours of wheel-to-wheel action. Another sterling effort from Codemasters, racing games don't really come much better than this.\", \"All this publication's reviews\", 'Read full review']\n",
      "============\n",
      "============\n",
      "['Gfinity', 'Jul 12, 2021', '90', 'F1 2021 delivers the high-octane racing everyone is used to but mixes in greater multiplayer options through two-player career and the new social online lobbies and the addition of a compelling and well-structured story mode.', \"All this publication's reviews\", 'Read full review']\n",
      "============\n",
      "============\n",
      "['GamingBolt', 'Jul 12, 2021', '90', 'Much of F1 2021 builds on the high-class foundation from previous games that make the series one of the best racing games out there, but new additions, especially Braking Point, are both great pieces of content on their own and optimistic foundational pieces for the future.', \"All this publication's reviews\", 'Read full review']\n",
      "============\n",
      "============\n",
      "['MondoXbox', 'Jul 21, 2021', '85', \"F1 2021 pairs the franchise's traditional modes with the excellent story mode Braking Point, gaining additional longevity and freshness. The gameplay is well suited to both novices and experienced players, the damage management is excellent but there is room for improvement in regard to the graphics. Ultimately, a definitely recommended title.\", \"All this publication's reviews\", 'Read full review']\n",
      "============\n",
      "============\n",
      "['TierraGamer', 'Jul 16, 2021', '85', 'This is the best and most attractive installment of a Formula 1 game in recent years. Codemasters has achieved this by building on a 2015 engine, but maybe in a couple of years we will see a truly next generation game that takes advantage of all the good elements that we have today. The future of the franchise is certainly exciting.', \"All this publication's reviews\", 'Read full review']\n",
      "============\n",
      "============\n",
      "['Cubed3', 'Aug 20, 2021', '80', 'A predictable, but engaging story mode has added some real shine to the F1 franchise, alongside the addition of two player career mode adding more options for players. Each iteration of F1 has gone from strength to strength, and F1 2021 is a great representation of the sport, from realistic presentation, great graphical details on the cars, tracks that feel authentic, and the return of My Team. Fans of F1 who want to keep up to date with the sport and have the latest team liveries and driver rosters, will be totally in love with this.', \"All this publication's reviews\", 'Read full review']\n",
      "============\n",
      "============\n",
      "['Jeuxvideo.com', 'Jul 13, 2021', '80', 'For its first lap on the next-gen, the Codemasters F1 series manages to offer content at the level.', \"All this publication's reviews\", 'Read full review']\n",
      "============\n",
      "============\n",
      "['IGN', 'Jul 12, 2021', '80', 'F1 2021 is the best-looking and most customisable instalment of the long-running Codemasters series to date, and the ability to tinker under the hood of the core career experience and play co-op with a friend is very welcome. With the addition of Braking Point it’s also arguably the boldest F1 game so far. The characterisation is a little underdone and the E for Everyone approach means it’s quite an airbrushed take on the F1 world compared to Netflix’s tense and profanity-laden Drive to Survive, but injecting a story mode into the F1 series was a risk well worth taking and I’m certainly looking forward to more of it.', \"All this publication's reviews\", 'Read full review']\n",
      "============\n",
      "============\n",
      "['Polygon', 'Jul 19, 2021', 'Codemasters’ F1 series has taken hundreds of hours from me since 2017, and in return it’s given me a rich, new sports fandom even in my late 40s. And now, F1 2021 is teaching me to expect imperfection, to own my mistakes, and forgive myself. The result may be messy, but it’s mine.', \"All this publication's reviews\", 'Read full review']\n",
      "============\n",
      "============\n",
      "['Xboxygen', 'Jul 19, 2021', 'F1 2021 offers a fascinating immersion into the most popular category of car racing. The new scripted adventure “Braking Point” truly is successful and manages to grasp its audience’s attention for around ten hours with a thrilling storyline, captivating cinematics, and racing challenges. Adding the two-player career mode effectively pumps up the excitement and the interest in this classical race-game experience. Even though it’s a quality game with lots to offer, it must be noted that losing the retro events is puzzling and the rest of the game is a mere copy-paste of the previous title. Another drawback is that the supposed “optimisation” inherent to the Series X|S is rather disappointing, even if the technical and graphical basis of the last opuses was quite impressive already. Despite these issues, this 2021 vintage remains a fabulous, skillful, and fun experience to play: a real must-have for any F1 fan.', \"All this publication's reviews\", 'Read full review']\n",
      "============\n",
      "============\n"
     ]
    }
   ],
   "source": [
    "for i in range(len(el)):\n",
    "    print(el[i].text.split('\\n'))\n",
    "    print('============\\n============')"
   ]
  }
 ],
 "metadata": {
  "kernelspec": {
   "display_name": "Python 3",
   "language": "python",
   "name": "python3"
  },
  "language_info": {
   "codemirror_mode": {
    "name": "ipython",
    "version": 3
   },
   "file_extension": ".py",
   "mimetype": "text/x-python",
   "name": "python",
   "nbconvert_exporter": "python",
   "pygments_lexer": "ipython3",
   "version": "3.10.10"
  },
  "orig_nbformat": 4,
  "vscode": {
   "interpreter": {
    "hash": "c8cd7ea2ef3b5a2b019787689d3a11867f27cd6c1a09ce5480ea7745ca6dd520"
   }
  }
 },
 "nbformat": 4,
 "nbformat_minor": 2
}
