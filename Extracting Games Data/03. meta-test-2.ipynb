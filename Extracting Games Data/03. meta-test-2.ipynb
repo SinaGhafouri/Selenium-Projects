{
 "cells": [
  {
   "cell_type": "code",
   "execution_count": 109,
   "metadata": {},
   "outputs": [],
   "source": [
    "from tqdm import tqdm\n",
    "import re\n",
    "from selenium import webdriver\n",
    "from selenium.webdriver.common.by import By\n",
    "from selenium.webdriver.common.desired_capabilities import DesiredCapabilities\n",
    "from selenium.webdriver.chrome.options import Options\n",
    "import warnings\n",
    "warnings.filterwarnings(\"ignore\")\n",
    "PATH = 'C:/Program Files/chromedriver.exe'"
   ]
  },
  {
   "attachments": {},
   "cell_type": "markdown",
   "metadata": {},
   "source": [
    "## Some functions"
   ]
  },
  {
   "cell_type": "code",
   "execution_count": 193,
   "metadata": {},
   "outputs": [],
   "source": [
    "def open_url(url, pageLoadStrategy='eager'):\n",
    "    caps = DesiredCapabilities().CHROME ; caps[\"pageLoadStrategy\"] = pageLoadStrategy # \"eager\", \"normal\", \"none\"\n",
    "    chrome_options = Options()  ; chrome_options.add_argument(\"window-size=700,800\")\n",
    "\n",
    "    driver = webdriver.Chrome(executable_path=PATH, desired_capabilities=caps, chrome_options=chrome_options)\n",
    "    driver.minimize_window()\n",
    "    driver.get(url)\n",
    "    try:\n",
    "        expand = driver.find_element(by=By.CLASS_NAME, value='toggle_expand')\n",
    "        expand.click()\n",
    "    except: pass\n",
    "    return driver\n",
    "\n",
    "def get_element_by_xpath(driver, xpath):\n",
    "    return driver.find_element(by=By.XPATH, value=xpath)\n",
    "\n",
    "def all_info(driver):\n",
    "    \"\"\"Summary (info)\"\"\"\n",
    "    info = get_element_by_xpath(driver, '//*[@id=\"main\"]/div/div[1]/div[1]')\n",
    "\n",
    "    \"\"\"Metascore\"\"\"\n",
    "    meta_positive = get_element_by_xpath(driver, '//*[@id=\"main\"]/div/div[3]/div[1]/div[1]/div/div[1]/div[2]/div/div/ol/li[1]')\n",
    "    meta_mixed = get_element_by_xpath(driver, '//*[@id=\"main\"]/div/div[3]/div[1]/div[1]/div/div[1]/div[2]/div/div/ol/li[2]')\n",
    "    meta_negative = get_element_by_xpath(driver, '//*[@id=\"main\"]/div/div[3]/div[1]/div[1]/div/div[1]/div[2]/div/div/ol/li[3]')\n",
    "    # pmn = get_element_by_xpath(driver, '//*[@id=\"main\"]/div/div[3]/div[1]/div[1]/div/div[1]/div[2]/div/div/ol').text.split('\\n')\n",
    "    # meta_positive, meta_mixed, meta_negative = pmn[1], pmn[4], pmn[7]\n",
    "    \"\"\"Userscore\"\"\"\n",
    "    user_positive = get_element_by_xpath(driver, '//*[@id=\"main\"]/div/div[3]/div[1]/div[1]/div/div[2]/div[3]/div/div/ol/li[1]/div/span[2]/a/span/span[1]')\n",
    "    user_mixed = get_element_by_xpath(driver, '//*[@id=\"main\"]/div/div[3]/div[1]/div[1]/div/div[2]/div[3]/div/div/ol/li[2]/div/span[2]/a/span/span[1]')\n",
    "    user_negative = get_element_by_xpath(driver, '//*[@id=\"main\"]/div/div[3]/div[1]/div[1]/div/div[2]/div[3]/div/div/ol/li[3]/div/span[2]/a/span/span[1]')\n",
    "    # pmn = get_element_by_xpath(driver, '//*[@id=\"main\"]/div/div[3]/div[1]/div[1]/div/div[2]/div[3]/div/div').text.split('\\n')\n",
    "    # user_positive, user_mixed, user_negative = pmn[1], pmn[4], pmn[7]\n",
    "    \"\"\"Awards\"\"\"\n",
    "    awards = get_element_by_xpath(driver, '//*[@id=\"main\"]/div/div[3]/div[2]/div[1]/div[2]')\n",
    "\n",
    "    return info.text.lower().split('\\n'), meta_positive.text.split('\\n')[1], meta_mixed.text.split('\\n')[1], meta_negative.text.split('\\n')[1], user_positive.text, user_mixed.text, user_negative.text, awards.text\n",
    "    # return info.text, meta_positive, meta_mixed, meta_negative, user_positive, user_mixed, user_negative, awards.text\n",
    "\n",
    "def del_item(arr, items):\n",
    "    for item in items:\n",
    "        try: arr.remove(item.lower())\n",
    "        except: pass\n",
    "    return arr"
   ]
  },
  {
   "cell_type": "markdown",
   "metadata": {},
   "source": [
    "## Main"
   ]
  },
  {
   "cell_type": "code",
   "execution_count": 89,
   "metadata": {},
   "outputs": [
    {
     "name": "stdout",
     "output_type": "stream",
     "text": [
      "(['F1 2021 Xbox Series X', 'Electronic Arts', 'Release Date: Jul 13, 2021', 'Also On: PC, PlayStation 4, PlayStation 5, Xbox One', 'Summary', 'Critic Reviews', 'User Reviews', 'Details & Credits', 'Trailers & Videos', 'Metascore', '88', 'Generally favorable reviews', 'based on 15 Critic Reviews', \"What's this?\", 'User Score', '5.8', 'Mixed or average reviews', 'based on 44 Ratings', 'Your Score', '0', 'Summary: Every story has a beginning in F1® 2021, the official videogame of the 2021 FIA FORMULA ONE WORLD CHAMPIONSHIP™. Enjoy the stunning new features of F1® 2021, including the thrilling story experience ‘Braking Point’, two-player Career, and get even closer to the grid with ‘Real-Season Start’.', 'Developer: Codemasters', 'Genre(s): Racing, Simulation, Automobile', '# of players: Up to 20', 'Cheats: On GameFAQs', 'Rating: E', 'More Details and Credits »'], '15', '0', '0', '5', '2', '9', '#6 Best Xbox Series X Game of 2021\\n#38 Most Discussed Xbox Series X Game of 2021')\n",
      "======================\n",
      "\n"
     ]
    }
   ],
   "source": [
    "# for some games:\n",
    "url1 = 'https://www.metacritic.com/game/xbox-series-x/f1-2021'\n",
    "url2 = 'https://www.metacritic.com/game/xbox-series-x/immortality'\n",
    "url3 = 'https://www.metacritic.com/game/xbox-series-x/elden-ring'\n",
    "url4 = 'https://www.metacritic.com/game/xbox-series-x/martha-is-dead'\n",
    "\n",
    "for url in [url1]:#, url2]:#, url3, url4]:\n",
    "    driver = open_url(url, pageLoadStrategy='none')\n",
    "    # info, meta_positive, meta_mixed, meta_negative, user_positive, user_mixed, user_negative, awards = all_info(driver)\n",
    "    print(all_info(driver))\n",
    "    print('======================\\n')\n",
    "    driver.quit()"
   ]
  },
  {
   "cell_type": "code",
   "execution_count": 202,
   "metadata": {},
   "outputs": [],
   "source": [
    "url5 = 'https://www.metacritic.com/game/xbox-series-x/halo-infinite'\n",
    "url6 = 'https://www.metacritic.com/game/xbox-series-x/hades'\n",
    "url7 = 'https://www.metacritic.com/game/xbox-series-x/forza-horizon-5'\n",
    "driver = open_url(url2, pageLoadStrategy='eager')\n",
    "info, meta_positive, meta_mixed, meta_negative, user_positive, user_mixed, user_negative, awards = all_info(driver)\n",
    "info = list(filter(('').__ne__, info))\n",
    "info = del_item(info, ['also on: iphone/ipad, pc','summary','critic reviews','user reviews','details & credits',\"what's this?\", 'trailers & videos', '… expand', 'buy now', 'buy on', 'your score', '0', 'cheats: on gamefaqs', 'more details and credits »'])"
   ]
  },
  {
   "cell_type": "code",
   "execution_count": 203,
   "metadata": {},
   "outputs": [
    {
     "data": {
      "text/plain": [
       "['immortality xbox series x',\n",
       " 'half mermaid',\n",
       " 'release date: aug 30, 2022',\n",
       " 'metascore',\n",
       " '88',\n",
       " 'generally favorable reviews',\n",
       " 'based on 14 critic reviews',\n",
       " 'user score',\n",
       " '7.3',\n",
       " 'mixed or average reviews',\n",
       " 'based on 71 ratings',\n",
       " 'summary: marissa marcel was a film star. she made three movies. but none of the movies was ever released. and marissa marcel disappeared. an interactive trilogy from sam barlow, creator of her story.',\n",
       " 'developer: sam barlow',\n",
       " 'genre(s): adventure, general']"
      ]
     },
     "execution_count": 203,
     "metadata": {},
     "output_type": "execute_result"
    }
   ],
   "source": [
    "info"
   ]
  },
  {
   "cell_type": "code",
   "execution_count": 205,
   "metadata": {},
   "outputs": [],
   "source": [
    "name = info[0].replace(' xbox series x','')\n",
    "distributer = info[1]\n",
    "date = info[2].replace('release date: ', '')\n",
    "metascore = info[4]\n",
    "meta_status = info[5]\n",
    "critic_reviews_num = re.sub(\"[^0-9]\",\"\",info[6].lower())\n",
    "userscore = info[8]\n",
    "userscore_status = info[9]\n",
    "user_reviews_num = info[10]\n",
    "summary = info[11][9:]\n",
    "dev = info[12][11:]\n",
    "genre = info[13][10:]\n",
    "# player_num = re.sub(\"[^0-9]\",\"\",info[25])\n",
    "# rating = info[27][8:].upper()"
   ]
  },
  {
   "cell_type": "code",
   "execution_count": 207,
   "metadata": {},
   "outputs": [
    {
     "name": "stdout",
     "output_type": "stream",
     "text": [
      "name: immortality\n",
      "distributer: half mermaid\n",
      "date: aug 30, 2022\n",
      "metascore: 88\n",
      "meta_status: generally favorable reviews\n",
      "critic_reviews_num: 14\n",
      "user_score: 7.3\n",
      "user_reviews_num: based on 71 ratings\n",
      "summary: marissa marcel was a film star. she made three movies. but none of the movies was ever released. and marissa marcel disappeared. an interactive trilogy from sam barlow, creator of her story.\n",
      "dev: sam barlow\n",
      "genre: adventure, general\n"
     ]
    }
   ],
   "source": [
    "print(f'name: {name}')\n",
    "print(f'distributer: {distributer}')\n",
    "print(f'date: {date}')\n",
    "print(f'metascore: {metascore}')\n",
    "print(f'meta_status: {meta_status}')\n",
    "print(f'critic_reviews_num: {critic_reviews_num}')\n",
    "print(f'user_score: {userscore}')\n",
    "print(f'user_reviews_num: {user_reviews_num}')\n",
    "print(f'summary: {summary}')\n",
    "print(f'dev: {dev}')\n",
    "print(f'genre: {genre}')\n",
    "# print(f'player_num: {player_num}')\n",
    "# print(f'rating: {rating}')"
   ]
  }
 ],
 "metadata": {
  "kernelspec": {
   "display_name": "Python 3",
   "language": "python",
   "name": "python3"
  },
  "language_info": {
   "codemirror_mode": {
    "name": "ipython",
    "version": 3
   },
   "file_extension": ".py",
   "mimetype": "text/x-python",
   "name": "python",
   "nbconvert_exporter": "python",
   "pygments_lexer": "ipython3",
   "version": "3.10.10"
  },
  "orig_nbformat": 4,
  "vscode": {
   "interpreter": {
    "hash": "c8cd7ea2ef3b5a2b019787689d3a11867f27cd6c1a09ce5480ea7745ca6dd520"
   }
  }
 },
 "nbformat": 4,
 "nbformat_minor": 2
}
