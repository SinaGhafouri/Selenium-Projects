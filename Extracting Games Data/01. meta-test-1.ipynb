{
 "cells": [
  {
   "cell_type": "markdown",
   "metadata": {},
   "source": [
    "<h2>What data we want:</h2>\n",
    "<ul>\n",
    "<li>Name</li>\n",
    "<li>Genre</li>\n",
    "<li>Platform</li>\n",
    "<li>Release date</li>\n",
    "<li>Metascore</li>\n",
    "<li>Metascore status</li>\n",
    "<li># of Positive, Mixed, Negative reviews</li>\n",
    "<li>Number of critic reviews</li>\n",
    "<li>User score</li>\n",
    "<li>User score status</li>\n",
    "<li># of Positive, Mixed, Negative reviews</li>\n",
    "<li>Number of user ratings</li>\n",
    "<li>Developer</li>\n",
    "<li>Distributer</li>\n",
    "<li># of players</li>\n",
    "<li>Rating</li>\n",
    "<li>Summary</li>\n",
    "<li>AWARDS & RANKINGS</li>\n",
    "<li>Each critic score</li>\n",
    "<li></li>\n",
    "<li></li>\n",
    "<li></li>\n",
    "\n",
    "</ul>"
   ]
  },
  {
   "cell_type": "code",
   "execution_count": 1,
   "metadata": {},
   "outputs": [],
   "source": [
    "from tqdm import tqdm\n",
    "from selenium import webdriver\n",
    "from selenium.webdriver.common.by import By\n",
    "from selenium.webdriver.common.desired_capabilities import DesiredCapabilities\n",
    "from selenium.webdriver.chrome.options import Options\n",
    "PATH = 'C:/Program Files/chromedriver.exe'"
   ]
  },
  {
   "attachments": {},
   "cell_type": "markdown",
   "metadata": {},
   "source": [
    "## Some functions"
   ]
  },
  {
   "cell_type": "code",
   "execution_count": 195,
   "metadata": {},
   "outputs": [],
   "source": [
    "def open_url(url, pageLoadStrategy='eager'):\n",
    "    caps = DesiredCapabilities().CHROME ; caps[\"pageLoadStrategy\"] = pageLoadStrategy # \"eager\", \"normal\", \"none\"\n",
    "    chrome_options = Options()  ; chrome_options.add_argument(\"window-size=700,800\")\n",
    "\n",
    "    driver = webdriver.Chrome(executable_path=PATH, desired_capabilities=caps, chrome_options=chrome_options)\n",
    "    driver.minimize_window()\n",
    "    driver.get(url)\n",
    "    try:\n",
    "        expand = driver.find_element(by=By.XPATH, value='//*[@id=\"main\"]/div/div[1]/div[1]/div[3]/div/div/div[2]/div[2]/div[1]/ul/li/span[2]/span/span[4]')\n",
    "        expand.click()\n",
    "    except: pass\n",
    "    return driver\n",
    "\n",
    "def get_element_by_xpath(driver, xpath):\n",
    "    return driver.find_element(by=By.XPATH, value=xpath)"
   ]
  },
  {
   "attachments": {},
   "cell_type": "markdown",
   "metadata": {},
   "source": [
    "## Main (test)"
   ]
  },
  {
   "cell_type": "code",
   "execution_count": 161,
   "metadata": {},
   "outputs": [
    {
     "name": "stderr",
     "output_type": "stream",
     "text": [
      "C:\\Users\\Finarfin\\AppData\\Local\\Temp\\ipykernel_13308\\2084368383.py:5: DeprecationWarning: executable_path has been deprecated, please pass in a Service object\n",
      "  driver = webdriver.Chrome(executable_path=PATH, desired_capabilities=caps, chrome_options=chrome_options)\n",
      "C:\\Users\\Finarfin\\AppData\\Local\\Temp\\ipykernel_13308\\2084368383.py:5: DeprecationWarning: use options instead of chrome_options\n",
      "  driver = webdriver.Chrome(executable_path=PATH, desired_capabilities=caps, chrome_options=chrome_options)\n"
     ]
    }
   ],
   "source": [
    "# for 3 games:\n",
    "url1 = 'https://www.metacritic.com/game/xbox-series-x/f1-2021'\n",
    "url2 = 'https://www.metacritic.com/game/xbox-series-x/immortality'\n",
    "url3 = 'https://www.metacritic.com/game/xbox-series-x/elden-ring'\n",
    "url4 = 'https://www.metacritic.com/game/xbox-series-x/martha-is-dead'\n",
    "\n",
    "# for url in [url1, url2, url3]:\n",
    "driver = open_url(url3, pageLoadStrategy='eager')"
   ]
  },
  {
   "cell_type": "code",
   "execution_count": 111,
   "metadata": {},
   "outputs": [
    {
     "name": "stdout",
     "output_type": "stream",
     "text": [
      "ELDEN RING\n"
     ]
    }
   ],
   "source": [
    "name = get_element_by_xpath(driver, '//*[@id=\"main\"]/div/div[1]/div[1]/div[1]/div[2]/a/h1')\n",
    "print(name.text)"
   ]
  },
  {
   "cell_type": "code",
   "execution_count": 113,
   "metadata": {},
   "outputs": [
    {
     "name": "stdout",
     "output_type": "stream",
     "text": [
      "Bandai Namco Games\n"
     ]
    }
   ],
   "source": [
    "distributer = get_element_by_xpath(driver, '//*[@id=\"main\"]/div/div[1]/div[1]/div[1]/div[3]/ul/li[1]/span[2]/a')\n",
    "print(distributer.text)"
   ]
  },
  {
   "cell_type": "code",
   "execution_count": null,
   "metadata": {},
   "outputs": [],
   "source": [
    "# /html/body/div[1]/div[2]/div[1]/div[1]/div/div/div/div/div/div/div/div/div[1]/div[1]/div[3]/div/div/div[2]/div[2]/div[2]/ul/li[1]/span[2]/a"
   ]
  },
  {
   "cell_type": "code",
   "execution_count": 162,
   "metadata": {},
   "outputs": [
    {
     "name": "stdout",
     "output_type": "stream",
     "text": [
      "ELDEN RING Xbox Series X\n",
      "Bandai Namco Games\n",
      "Release Date: Feb 25, 2022\n",
      "Also On: PC, PlayStation 4, PlayStation 5, Xbox One\n",
      "Summary\n",
      "Critic Reviews\n",
      "User Reviews\n",
      "Details & Credits\n",
      "Trailers & Videos\n",
      "Metascore\n",
      "96\n",
      "Universal acclaim\n",
      "based on 19 Critic Reviews\n",
      "What's this?\n",
      "User Score\n",
      "7.7\n",
      "Generally favorable reviews\n",
      "based on 2766 Ratings\n",
      "Your Score\n",
      "0\n",
      "Summary: A New World Created By Hidetaka Miyazaki And George R. R. Martin. ELDEN RING, developed by FromSoftware, Inc. and BANDAI NAMCO Entertainment Inc., is a fantasy action-RPG adventure set within a world created by Hidetaka Miyazaki creator of the influential DARK SOULS video game series; and George R.R. Martin author of The New York Times best-selling fantasy series, A Song of Ice and Fire. Danger and discovery lurk around every corner in FromSoftware's largest game to-date. Hidetaka Miyazaki, President and Game Director of FromSoftware Inc. Known for directing critically-acclaimed games in beloved franchises including Armored Core, Dark Souls, and Sekiro: Shadows Die Twice. George R.R. Martin is the #1 New York Times bestselling author of many novels, including the acclaimed series A Song of Ice and Fire - A Game of Thrones, A Clash of Kings, A Storm of Swords, A Feast For Crows, and A Dance with Dragons. As a writer-producer, he has worked on The Twilight Zone, Beauty and the Beast, and various feature films and pilots that were never made. Collapse\n",
      "Buy Now\n",
      "Buy on\n",
      "Developer: From Software\n",
      "Genre(s): Role-Playing, Action RPG\n",
      "# of players: Up to 4\n",
      "Cheats: On GameFAQs\n",
      "Rating: M\n",
      "More Details and Credits »\n",
      "TRAILER\n"
     ]
    }
   ],
   "source": [
    "developer_element = get_element_by_xpath(driver, '//*[@id=\"main\"]/div/div[1]/div[1]')\n",
    "                                         #'/html/body/div[1]/div[2]/div[1]/div[1]/div/div/div/div/div')#/div/div/div/div[1]')#/div[1]')#/div[3]')#/div/div[2]/div[2]/div[2]/ul/li[1]/span[2]/a')\n",
    "                                                #'/html/body/div[1]/div[2]/div[1]/div[1]/div/div/div/div/div/div/div/div/div[1]/div[1]/div[3]/div/div/div[2]/div[2]/div[2]/ul/li[1]/span[2]/a')\n",
    "                                                 #//*[@id=\"main\"]/div/div[1]/div[1]/div[3]/div/div[2]/div[2]/div[2]/ul/li[1]/span[2]/a\n",
    "                                                 #'//*[@id=\"main\"]/div/div[1]/div[1]/div[3]/div/div/div[2]/div[2]/div[2]/ul/li[1]/span[2]/a'\n",
    "print(developer_element.text)"
   ]
  },
  {
   "cell_type": "code",
   "execution_count": 163,
   "metadata": {},
   "outputs": [
    {
     "name": "stdout",
     "output_type": "stream",
     "text": [
      "Feb 25, 2022\n"
     ]
    }
   ],
   "source": [
    "# date = get_element_by_xpath(driver, '//*[@id=\"main\"]/div/div[1]/div[1]/div[1]/div[3]/ul/li[2]/span[2]')\n",
    "# print(date.text)"
   ]
  },
  {
   "cell_type": "code",
   "execution_count": 165,
   "metadata": {},
   "outputs": [],
   "source": [
    "# metascore = get_element_by_xpath(driver, '//*[@id=\"main\"]/div/div[1]/div[1]/div[3]/div/div[2]/div[1]/div[1]/div/div/a/div/span')\n",
    "#                                         #'//*[@id=\"main\"]/div/div[1]/div[1]/div[3]/div/div[2]/div[1]/div[1]/div/div/a/div/span')\n",
    "#                                         #'//*[@id=\"main\"]/div/div[1]/div[1]/div[3]/div/div/div[2]/div[1]/div[1]/div/div/a/div/span'\n",
    "# print(metascore.text)"
   ]
  },
  {
   "cell_type": "code",
   "execution_count": 167,
   "metadata": {},
   "outputs": [],
   "source": [
    "# meta_reviews_num = get_element_by_xpath(driver, '//*[@id=\"main\"]/div/div[1]/div[1]/div[3]/div/div[2]/div[1]/div[1]/div/div/div[2]/p/span[2]/a/span')\n",
    "#                                                #'//*[@id=\"main\"]/div/div[1]/div[1]/div[3]/div/div[2]/div[1]/div[1]/div/div/div[2]/p/span[2]/a/span')\n",
    "#                                                #'//*[@id=\"main\"]/div/div[1]/div[1]/div[3]/div/div/div[2]/div[1]/div[1]/div/div/div[2]/p/span[2]/a/span'\n",
    "# print(meta_reviews_num.text)"
   ]
  },
  {
   "cell_type": "code",
   "execution_count": 169,
   "metadata": {},
   "outputs": [],
   "source": [
    "# meta_status = get_element_by_xpath(driver, '//*[@id=\"main\"]/div/div[1]/div[1]/div[3]/div/div[2]/div[1]/div[1]/div/div/div[2]/p/span[1]')\n",
    "# print(meta_status.text)"
   ]
  },
  {
   "cell_type": "code",
   "execution_count": 170,
   "metadata": {},
   "outputs": [
    {
     "name": "stdout",
     "output_type": "stream",
     "text": [
      "19\n",
      "0\n",
      "0\n"
     ]
    }
   ],
   "source": [
    "meta_positive = get_element_by_xpath(driver, '//*[@id=\"main\"]/div/div[3]/div[1]/div[1]/div/div[1]/div[2]/div/div/ol/li[1]')\n",
    "                                            #'//*[@id=\"main\"]/div/div[3]/div[1]/div[1]/div/div[1]/div[2]/div/div/ol/li[1]/div/span[2]/a/span/span[1]')\n",
    "print(meta_positive.text.split(' of ')[1])\n",
    "\n",
    "meta_mixed = get_element_by_xpath(driver,    '//*[@id=\"main\"]/div/div[3]/div[1]/div[1]/div/div[1]/div[2]/div/div/ol/li[2]')\n",
    "                                             #//*[@id=\"main\"]/div/div[3]/div[1]/div[1]/div/div[1]/div[2]/div/div/ol/li[2]/div/span[2]/a/span/span[1]')\n",
    "print(meta_mixed.text.split('\\n')[1])\n",
    "\n",
    "meta_negative = get_element_by_xpath(driver, '//*[@id=\"main\"]/div/div[3]/div[1]/div[1]/div/div[1]/div[2]/div/div/ol/li[3]')\n",
    "                                             #'//*[@id=\"main\"]/div/div[3]/div[1]/div[1]/div/div[1]/div[2]/div/div/ol/li[3]/div/span[2]/a/span/span[1]')\n",
    "print(meta_negative.text.split('\\n')[1])"
   ]
  },
  {
   "cell_type": "code",
   "execution_count": 172,
   "metadata": {},
   "outputs": [
    {
     "name": "stdout",
     "output_type": "stream",
     "text": [
      "Xbox Series X\n"
     ]
    }
   ],
   "source": [
    "plat_xpath = '//*[@id=\"main\"]/div/div[1]/div[1]/div[1]/div[2]/span/a'\n",
    "plat_element = get_element_by_xpath(driver, plat_xpath)\n",
    "print(plat_element.text)"
   ]
  },
  {
   "cell_type": "code",
   "execution_count": 174,
   "metadata": {},
   "outputs": [],
   "source": [
    "# genre = get_element_by_xpath(driver, '//*[@id=\"main\"]/div/div[1]/div[1]/div[3]/div/div[2]/div[2]/div[2]/ul/li[2]')\n",
    "# print(genre.text.split(': ')[-1])"
   ]
  },
  {
   "cell_type": "code",
   "execution_count": 175,
   "metadata": {},
   "outputs": [],
   "source": [
    "# players = get_element_by_xpath(driver, '//*[@id=\"main\"]/div/div[1]/div[1]/div[3]/div/div[2]/div[2]/div[2]/ul/li[3]/span[2]')\n",
    "# print(players.text)"
   ]
  },
  {
   "cell_type": "code",
   "execution_count": 177,
   "metadata": {},
   "outputs": [],
   "source": [
    "# userscore = get_element_by_xpath(driver, '//*[@id=\"main\"]/div/div[1]/div[1]/div[3]/div/div[2]/div[1]/div[2]/div[1]/div/a/div')\n",
    "# print(userscore.text)"
   ]
  },
  {
   "cell_type": "code",
   "execution_count": 179,
   "metadata": {},
   "outputs": [],
   "source": [
    "# user_reviews_num = get_element_by_xpath(driver, '//*[@id=\"main\"]/div/div[1]/div[1]/div[3]/div/div[2]/div[1]/div[2]/div[1]/div/div[2]/p/span[2]/a')\n",
    "# print(user_reviews_num.text.split(' ')[0])"
   ]
  },
  {
   "cell_type": "code",
   "execution_count": 181,
   "metadata": {},
   "outputs": [],
   "source": [
    "# user_status = get_element_by_xpath(driver, '//*[@id=\"main\"]/div/div[1]/div[1]/div[3]/div/div[2]/div[1]/div[2]/div[1]/div/div[2]/p/span[1]')\n",
    "# print(user_status.text)"
   ]
  },
  {
   "cell_type": "code",
   "execution_count": 184,
   "metadata": {},
   "outputs": [
    {
     "name": "stdout",
     "output_type": "stream",
     "text": [
      "722\n",
      "87\n",
      "185\n"
     ]
    }
   ],
   "source": [
    "user_positive = get_element_by_xpath(driver, '//*[@id=\"main\"]/div/div[3]/div[1]/div[1]/div/div[2]/div[3]/div/div/ol/li[1]/div/span[2]/a/span/span[1]')\n",
    "print(user_positive.text)\n",
    "\n",
    "user_mixed = get_element_by_xpath(driver, '//*[@id=\"main\"]/div/div[3]/div[1]/div[1]/div/div[2]/div[3]/div/div/ol/li[2]/div/span[2]/a/span/span[1]')\n",
    "print(user_mixed.text)\n",
    "\n",
    "user_negative = get_element_by_xpath(driver, '//*[@id=\"main\"]/div/div[3]/div[1]/div[1]/div/div[2]/div[3]/div/div/ol/li[3]/div/span[2]/a/span/span[1]')\n",
    "print(user_negative.text)"
   ]
  },
  {
   "cell_type": "code",
   "execution_count": 186,
   "metadata": {},
   "outputs": [],
   "source": [
    "# rating = get_element_by_xpath(driver, '//*[@id=\"main\"]/div/div[1]/div[1]/div[3]/div/div[2]/div[2]/div[2]/ul/li[5]/span[2]')\n",
    "# print(rating.text)"
   ]
  },
  {
   "cell_type": "code",
   "execution_count": 188,
   "metadata": {},
   "outputs": [],
   "source": [
    "# summary = get_element_by_xpath(driver, '//*[@id=\"main\"]/div/div[1]/div[1]/div[3]/div/div[2]/div[2]/div[1]/ul/li/span[2]/span')\n",
    "# print(summary.text)"
   ]
  },
  {
   "cell_type": "code",
   "execution_count": 189,
   "metadata": {},
   "outputs": [
    {
     "name": "stdout",
     "output_type": "stream",
     "text": [
      "#1 Best Xbox Series X Game of 2022\n",
      "#1 Most Discussed Xbox Series X Game of 2022\n"
     ]
    }
   ],
   "source": [
    "awards = get_element_by_xpath(driver, '//*[@id=\"main\"]/div/div[3]/div[2]/div[1]/div[2]')\n",
    "print(awards.text)"
   ]
  },
  {
   "attachments": {},
   "cell_type": "markdown",
   "metadata": {},
   "source": [
    "## What can we do?"
   ]
  },
  {
   "cell_type": "code",
   "execution_count": 196,
   "metadata": {},
   "outputs": [
    {
     "name": "stderr",
     "output_type": "stream",
     "text": [
      "C:\\Users\\Finarfin\\AppData\\Local\\Temp\\ipykernel_13308\\623425263.py:5: DeprecationWarning: executable_path has been deprecated, please pass in a Service object\n",
      "  driver = webdriver.Chrome(executable_path=PATH, desired_capabilities=caps, chrome_options=chrome_options)\n",
      "C:\\Users\\Finarfin\\AppData\\Local\\Temp\\ipykernel_13308\\623425263.py:5: DeprecationWarning: use options instead of chrome_options\n",
      "  driver = webdriver.Chrome(executable_path=PATH, desired_capabilities=caps, chrome_options=chrome_options)\n"
     ]
    }
   ],
   "source": [
    "# for 3 games:\n",
    "url1 = 'https://www.metacritic.com/game/xbox-series-x/f1-2021'\n",
    "url2 = 'https://www.metacritic.com/game/xbox-series-x/immortality'\n",
    "url3 = 'https://www.metacritic.com/game/xbox-series-x/elden-ring'\n",
    "url4 = 'https://www.metacritic.com/game/xbox-series-x/martha-is-dead'\n",
    "\n",
    "# for url in [url1, url2, url3]:\n",
    "driver = open_url(url4, pageLoadStrategy='eager')"
   ]
  },
  {
   "cell_type": "code",
   "execution_count": 197,
   "metadata": {},
   "outputs": [
    {
     "name": "stdout",
     "output_type": "stream",
     "text": [
      "MARTHA IS DEAD\n"
     ]
    }
   ],
   "source": [
    "name = get_element_by_xpath(driver, '//*[@id=\"main\"]/div/div[1]/div[1]/div[1]/div[2]/a/h1')\n",
    "print(name.text)"
   ]
  },
  {
   "cell_type": "code",
   "execution_count": 198,
   "metadata": {},
   "outputs": [
    {
     "name": "stdout",
     "output_type": "stream",
     "text": [
      "Wired Productions\n"
     ]
    }
   ],
   "source": [
    "distributer = get_element_by_xpath(driver, '//*[@id=\"main\"]/div/div[1]/div[1]/div[1]/div[3]/ul/li[1]/span[2]/a')\n",
    "print(distributer.text)"
   ]
  },
  {
   "cell_type": "code",
   "execution_count": 199,
   "metadata": {},
   "outputs": [
    {
     "name": "stdout",
     "output_type": "stream",
     "text": [
      "MARTHA IS DEAD Xbox Series X\n",
      "Wired Productions\n",
      "Release Date: Feb 24, 2022\n",
      "Also On: PC, PlayStation 4, PlayStation 5, Xbox One\n",
      "Summary\n",
      "Critic Reviews\n",
      "User Reviews\n",
      "Details & Credits\n",
      "Trailers & Videos\n",
      "Metascore\n",
      "65\n",
      "Mixed or average reviews\n",
      "based on 28 Critic Reviews\n",
      "What's this?\n",
      "User Score\n",
      "7.1\n",
      "Mixed or average reviews\n",
      "based on 32 Ratings\n",
      "Your Score\n",
      "0\n",
      "Summary: Martha Is Dead is a dark first-person psychological thriller, set in 1944 Italy, that blurs the lines between reality, superstition and the tragedy of war.\n",
      "Developer: LKA\n",
      "Genre(s): Adventure, 3D, First-Person\n",
      "# of players: No Online Multiplayer\n",
      "Cheats: On GameFAQs\n",
      "Rating: M\n",
      "More Details and Credits »\n"
     ]
    }
   ],
   "source": [
    "info_element = get_element_by_xpath(driver, '//*[@id=\"main\"]/div/div[1]/div[1]')\n",
    "                                         #'/html/body/div[1]/div[2]/div[1]/div[1]/div/div/div/div/div')#/div/div/div/div[1]')#/div[1]')#/div[3]')#/div/div[2]/div[2]/div[2]/ul/li[1]/span[2]/a')\n",
    "                                                #'/html/body/div[1]/div[2]/div[1]/div[1]/div/div/div/div/div/div/div/div/div[1]/div[1]/div[3]/div/div/div[2]/div[2]/div[2]/ul/li[1]/span[2]/a')\n",
    "                                                 #//*[@id=\"main\"]/div/div[1]/div[1]/div[3]/div/div[2]/div[2]/div[2]/ul/li[1]/span[2]/a\n",
    "                                                 #'//*[@id=\"main\"]/div/div[1]/div[1]/div[3]/div/div/div[2]/div[2]/div[2]/ul/li[1]/span[2]/a'\n",
    "print(info_element.text)"
   ]
  },
  {
   "cell_type": "code",
   "execution_count": 201,
   "metadata": {},
   "outputs": [
    {
     "name": "stdout",
     "output_type": "stream",
     "text": [
      "Feb 24, 2022\n"
     ]
    }
   ],
   "source": [
    "date = get_element_by_xpath(driver, '//*[@id=\"main\"]/div/div[1]/div[1]/div[1]/div[3]/ul/li[2]/span[2]')\n",
    "print(date.text)"
   ]
  },
  {
   "cell_type": "code",
   "execution_count": 207,
   "metadata": {},
   "outputs": [
    {
     "name": "stdout",
     "output_type": "stream",
     "text": [
      "28\n",
      "11\n",
      "5\n"
     ]
    }
   ],
   "source": [
    "meta_positive = get_element_by_xpath(driver, '//*[@id=\"main\"]/div/div[3]/div[1]/div[1]/div/div[1]/div[2]/div/div/ol/li[1]')\n",
    "                                            #'//*[@id=\"main\"]/div/div[3]/div[1]/div[1]/div/div[1]/div[2]/div/div/ol/li[1]/div/span[2]/a/span/span[1]')\n",
    "print(meta_positive.text.split(' of ')[1])\n",
    "\n",
    "meta_mixed = get_element_by_xpath(driver,    '//*[@id=\"main\"]/div/div[3]/div[1]/div[1]/div/div[1]/div[2]/div/div/ol/li[2]')\n",
    "                                             #//*[@id=\"main\"]/div/div[3]/div[1]/div[1]/div/div[1]/div[2]/div/div/ol/li[2]/div/span[2]/a/span/span[1]')\n",
    "print(meta_mixed.text.split('\\n')[1])\n",
    "\n",
    "meta_negative = get_element_by_xpath(driver, '//*[@id=\"main\"]/div/div[3]/div[1]/div[1]/div/div[1]/div[2]/div/div/ol/li[3]')\n",
    "                                             #'//*[@id=\"main\"]/div/div[3]/div[1]/div[1]/div/div[1]/div[2]/div/div/ol/li[3]/div/span[2]/a/span/span[1]')\n",
    "print(meta_negative.text.split('\\n')[1])"
   ]
  },
  {
   "cell_type": "code",
   "execution_count": 208,
   "metadata": {},
   "outputs": [
    {
     "name": "stdout",
     "output_type": "stream",
     "text": [
      "Xbox Series X\n"
     ]
    }
   ],
   "source": [
    "plat_xpath = '//*[@id=\"main\"]/div/div[1]/div[1]/div[1]/div[2]/span/a'\n",
    "plat_element = get_element_by_xpath(driver, plat_xpath)\n",
    "print(plat_element.text)"
   ]
  },
  {
   "cell_type": "code",
   "execution_count": 209,
   "metadata": {},
   "outputs": [
    {
     "name": "stdout",
     "output_type": "stream",
     "text": [
      "9\n",
      "4\n",
      "1\n"
     ]
    }
   ],
   "source": [
    "user_positive = get_element_by_xpath(driver, '//*[@id=\"main\"]/div/div[3]/div[1]/div[1]/div/div[2]/div[3]/div/div/ol/li[1]/div/span[2]/a/span/span[1]')\n",
    "print(user_positive.text)\n",
    "\n",
    "user_mixed = get_element_by_xpath(driver, '//*[@id=\"main\"]/div/div[3]/div[1]/div[1]/div/div[2]/div[3]/div/div/ol/li[2]/div/span[2]/a/span/span[1]')\n",
    "print(user_mixed.text)\n",
    "\n",
    "user_negative = get_element_by_xpath(driver, '//*[@id=\"main\"]/div/div[3]/div[1]/div[1]/div/div[2]/div[3]/div/div/ol/li[3]/div/span[2]/a/span/span[1]')\n",
    "print(user_negative.text)"
   ]
  },
  {
   "cell_type": "code",
   "execution_count": 210,
   "metadata": {},
   "outputs": [
    {
     "name": "stdout",
     "output_type": "stream",
     "text": [
      "#50 Most Discussed Xbox Series X Game of 2022\n"
     ]
    }
   ],
   "source": [
    "awards = get_element_by_xpath(driver, '//*[@id=\"main\"]/div/div[3]/div[2]/div[1]/div[2]')\n",
    "print(awards.text)"
   ]
  },
  {
   "attachments": {},
   "cell_type": "markdown",
   "metadata": {},
   "source": [
    "## Finally we have"
   ]
  },
  {
   "cell_type": "code",
   "execution_count": null,
   "metadata": {},
   "outputs": [],
   "source": [
    "\"\"\"Summary (info)\"\"\"\n",
    "info = get_element_by_xpath(driver, '//*[@id=\"main\"]/div/div[1]/div[1]')\n",
    "print(info.text)\n",
    "\n",
    "\"\"\"Metascore\"\"\"\n",
    "meta_positive = get_element_by_xpath(driver, '//*[@id=\"main\"]/div/div[3]/div[1]/div[1]/div/div[1]/div[2]/div/div/ol/li[1]')\n",
    "print(meta_positive.text.split(' of ')[1])\n",
    "\n",
    "meta_mixed = get_element_by_xpath(driver, '//*[@id=\"main\"]/div/div[3]/div[1]/div[1]/div/div[1]/div[2]/div/div/ol/li[2]')\n",
    "print(meta_mixed.text.split('\\n')[1])\n",
    "\n",
    "meta_negative = get_element_by_xpath(driver, '//*[@id=\"main\"]/div/div[3]/div[1]/div[1]/div/div[1]/div[2]/div/div/ol/li[3]')\n",
    "print(meta_negative.text.split('\\n')[1])\n",
    "\n",
    "\"\"\"Userscore\"\"\"\n",
    "user_positive = get_element_by_xpath(driver, '//*[@id=\"main\"]/div/div[3]/div[1]/div[1]/div/div[2]/div[3]/div/div/ol/li[1]/div/span[2]/a/span/span[1]')\n",
    "print(user_positive.text)\n",
    "\n",
    "user_mixed = get_element_by_xpath(driver, '//*[@id=\"main\"]/div/div[3]/div[1]/div[1]/div/div[2]/div[3]/div/div/ol/li[2]/div/span[2]/a/span/span[1]')\n",
    "print(user_mixed.text)\n",
    "\n",
    "user_negative = get_element_by_xpath(driver, '//*[@id=\"main\"]/div/div[3]/div[1]/div[1]/div/div[2]/div[3]/div/div/ol/li[3]/div/span[2]/a/span/span[1]')\n",
    "print(user_negative.text)\n",
    "\n",
    "\"\"\"Awards\"\"\"\n",
    "awards = get_element_by_xpath(driver, '//*[@id=\"main\"]/div/div[3]/div[2]/div[1]/div[2]')\n",
    "print(awards.text)"
   ]
  }
 ],
 "metadata": {
  "kernelspec": {
   "display_name": "Python 3",
   "language": "python",
   "name": "python3"
  },
  "language_info": {
   "codemirror_mode": {
    "name": "ipython",
    "version": 3
   },
   "file_extension": ".py",
   "mimetype": "text/x-python",
   "name": "python",
   "nbconvert_exporter": "python",
   "pygments_lexer": "ipython3",
   "version": "3.10.10"
  },
  "orig_nbformat": 4,
  "vscode": {
   "interpreter": {
    "hash": "c8cd7ea2ef3b5a2b019787689d3a11867f27cd6c1a09ce5480ea7745ca6dd520"
   }
  }
 },
 "nbformat": 4,
 "nbformat_minor": 2
}
